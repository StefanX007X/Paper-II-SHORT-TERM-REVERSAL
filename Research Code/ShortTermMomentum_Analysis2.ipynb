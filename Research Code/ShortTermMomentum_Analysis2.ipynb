{
 "cells": [
  {
   "cell_type": "code",
   "execution_count": 1,
   "id": "5c005f09-b598-46d7-ae6c-125515f1784a",
   "metadata": {},
   "outputs": [],
   "source": [
    "%%capture\n",
    "import sys\n",
    "import math\n",
    "import random\n",
    "import pickle\n",
    "import matplotlib\n",
    "import pandas as pd\n",
    "import numpy as np\n",
    "#import datetime\n",
    "import datetime as dt\n",
    "import matplotlib.pyplot as plt\n",
    "import statsmodels.api as sm\n",
    "import seaborn as sns\n",
    "import regex as re\n",
    "import multiprocessing\n",
    "#from numpy import *\n",
    "from IPython.display import display, HTML\n",
    "from stargazer.stargazer import Stargazer\n",
    "from scipy import stats\n",
    "from scipy.stats import ttest_1samp\n",
    "from datetime import timedelta, datetime, time, date\n",
    "from statsmodels.regression.linear_model import RegressionResults\n",
    "from sklearn.metrics import confusion_matrix, classification_report\n",
    "from sklearn.neighbors import KernelDensity\n",
    "from matplotlib import rc\n",
    "from tqdm.notebook import tqdm\n",
    "from cycler import cycler\n",
    "tqdm().pandas()\n",
    "\n",
    "#fontsize = 18\n",
    "#rc('font', **{'family': 'serif', 'serif': ['Computer Modern'], 'size': fontsize})\n",
    "#rc('text', usetex=True)\n",
    "\n",
    "color_list = [\"#348ABD\",\"#A60628\",\"#7A68A6\",\"#467821\",\"#CF4457\",\"#188487\",\"#E24A33\"]\n",
    "style = {\n",
    "  \"lines.linewidth\": 2.0,\n",
    "  \"axes.edgecolor\": \"#bcbcbc\",\n",
    "  \"patch.linewidth\": 0.5,\n",
    "  \"legend.fancybox\": True,\n",
    "  \"axes.prop_cycle\": cycler('color', color_list),\n",
    "  \"axes.facecolor\": \"#ffffff\",\n",
    "  \"axes.labelsize\": \"large\",\n",
    "  \"axes.grid\": True,\n",
    "  \"patch.edgecolor\": \"#eeeeee\",\n",
    "  \"axes.titlesize\": \"x-large\",\n",
    "  \"svg.fonttype\": \"path\"}\n",
    "\n",
    "matplotlib.rcParams.update(style)\n",
    "\n",
    "# Modify pandas display settings\n",
    "pd.set_option('display.max_rows', 100)\n",
    "pd.set_option('display.max_columns', 30)\n",
    "\n",
    "data_path       = \"C:/Users/Stefa/Documents/Uni/Projektassistenz/Python/Data/\"\n",
    "path_data_files = '/Users/Stefa/Documents/Sentiment Analysis Files/'\n",
    "\n",
    "extended_model_path = data_path+'Classification/DagoBERT/SCE_Loss_minw_25_lr_5e5_3ep_bs32_wd_1e2_a0_5_b3_NN1_w2v_topics/' \n",
    "extended_data_path  = path_data_files+'filtered_news_data_for_transformer/train_validation_data' #data_with_922_constituents/train_validation_data/'\n",
    "\n",
    "output_path   = \"C:/Users/Stefa/Documents/Uni/Projektassistenz/Auswertung/\"\n",
    "fin_data_path = \"C:/Users/Stefa/Documents/Uni/Projektassistenz/Financial Data/\"    \n",
    "save_path     = \"C:/Users/Stefa/Documents/Uni/Projektassistenz/Auswertung/ShortTerm Momentum/plots/\"\n",
    "\n",
    "r_cols = ['r_tV', 'r_tIV', 'r_tIII', 'r_tII', 'r_tI', 'r_t', 'r_t1', 'r_t2', 'r_t3', 'r_t4', 'r_t5', 'r_t6']\n",
    "z_cols = ['z_tIII', 'z_tII', 'z_tI', 'z_t', 'z_t1']\n",
    "\n",
    "\n",
    "def load_data(file):\n",
    "    df = pd.read_csv(file, encoding='utf-8-sig')\n",
    "    df.Date = pd.to_datetime(df.Date)\n",
    "    df = df.set_index(['Ticker', 'Date'])\n",
    "    df = df.rename(columns={'Prediction value': 'prediction_value'})\n",
    "    return df\n",
    "\n",
    "\n",
    "def get_z_val(x):\n",
    "    return z_scores_mc_tI.loc[x.Date, x.Ticker] \n",
    "\n",
    "\n",
    "\n",
    "\n",
    "\n",
    "from statsmodels.base.wrapper import ResultsWrapper\n",
    "from math import sqrt\n",
    "\n",
    "class MyStargazer(Stargazer):\n",
    "    def __init__(self, models):\n",
    "        super().__init__(models)\n",
    "        \n",
    "    def extract_model_data(self, model):\n",
    "        statsmodels_map = {'p_values' : 'pvalues',\n",
    "                           'cov_values' : 'params',\n",
    "                           'cov_std_err' : 'tvalues',   # change from 'bse' to 'tvalues' to report t-values in brackets\n",
    "                           'r2' : 'rsquared',\n",
    "                           'r2_adj' : 'rsquared_adj',\n",
    "                           'f_p_value' : 'f_pvalue',\n",
    "                           'degree_freedom' : 'df_model',\n",
    "                           'degree_freedom_resid' : 'df_resid',\n",
    "                           'nobs' : 'nobs',\n",
    "                           'f_statistic' : 'fvalue'\n",
    "                           }\n",
    "\n",
    "        data = {}\n",
    "        for key, val in statsmodels_map.items():\n",
    "            data[key] = self._extract_feature(model, val)\n",
    "\n",
    "        if isinstance(model, ResultsWrapper):\n",
    "            data['cov_names'] = model.params.index.values\n",
    "        else:\n",
    "            # Simple RegressionResults, for instance as a result of\n",
    "            # get_robustcov_results():\n",
    "            data['cov_names'] = model.model.data.orig_exog.columns\n",
    "\n",
    "            # These are simple arrays, not Series:\n",
    "            for what in 'cov_values', 'p_values', 'cov_std_err':\n",
    "                data[what] = pd.Series(data[what],\n",
    "                                       index=data['cov_names'])\n",
    "\n",
    "        data['conf_int_low_values'] = model.conf_int()[0]\n",
    "        data['conf_int_high_values'] = model.conf_int()[1]\n",
    "        data['resid_std_err'] = (sqrt(sum(model.resid**2) / model.df_resid)\n",
    "                                 if hasattr(model, 'resid') else None)\n",
    "\n",
    "        # Workaround for\n",
    "        # https://github.com/statsmodels/statsmodels/issues/6778:\n",
    "        if 'f_statistic' in data:\n",
    "            data['f_statistic'] = (lambda x : x[0, 0] if getattr(x, 'ndim', 0)\n",
    "                                   else x)(data['f_statistic'])\n",
    "\n",
    "        return data"
   ]
  },
  {
   "cell_type": "code",
   "execution_count": 6,
   "id": "a741f52d-5bfd-4e57-b8a6-f867fb2f17b6",
   "metadata": {},
   "outputs": [],
   "source": [
    "# Load News Events Data\n",
    "news_event_df = pd.read_csv(data_path+'news_event_df.csv', encoding='utf-8')\n",
    "news_event_df.Timestamp_ET = pd.DatetimeIndex(news_event_df.Timestamp_ET)\n",
    "news_event_df.Date = pd.to_datetime(news_event_df.Date)\n",
    "news_event_df = news_event_df.set_index(['Timestamp_ET', 'Ticker'])\n",
    "\n",
    "# Load Beta values (file reference: Volatility adjusted labels.ipynb)\n",
    "beta = pd.read_csv(data_path+'beta_moc_df.csv')     \n",
    "beta.Date = pd.to_datetime(beta.Date)\n",
    "#beta = beta[beta['Date'].dt.year >= 2002]\n",
    "beta = beta[beta['Date'].dt.year <= 2020]\n",
    "beta = beta.set_index('Date')\n",
    "\n",
    "beta_o = beta.copy()\n",
    "beta_c = beta.copy()\n",
    "beta_o.index = beta_o.index + timedelta(hours=9, minutes=30)\n",
    "beta_c.index = beta_c.index + timedelta(hours=16, minutes=0)\n",
    "beta_oc = pd.concat([beta_o, beta_c]).sort_index()\n",
    "\n",
    "sp500 = pd.read_csv(fin_data_path+'SP500_Open_Close_Data_2002_2022.csv', encoding='utf-8', index_col=0)\n",
    "sp500['Date'] = pd.to_datetime(sp500['Date']) \n",
    "sp500 = sp500.set_index('Date')\n",
    "sp500['Total Return Open'] = (sp500.Open/sp500.Close)*sp500['Total Return']\n",
    "sp500_r = sp500.pct_change()  # Daily Returns\n",
    "sp500_r['TR OpenClose'] = (sp500['Total Return']-sp500['Total Return Open'])/sp500['Total Return Open']\n",
    "sp500_r['TR CloseOpen'] = (sp500['Total Return Open'] - sp500['Total Return'].shift(1))/sp500['Total Return'].shift(1)\n",
    "\n",
    "sp500_close_open = sp500_r['TR CloseOpen']\n",
    "sp500_close_open.index = sp500_close_open.index + timedelta(hours=9, minutes=30)\n",
    "sp500_open_close = sp500_r['TR OpenClose']\n",
    "sp500_open_close.index = sp500_open_close.index + timedelta(hours=16, minutes=0)\n",
    "sp500_returns = pd.concat([sp500_close_open, sp500_open_close], axis=0).sort_index()\n",
    "sp500_returns.name = 'TR_SP500'\n",
    "\n",
    "rf_3M = pd.read_csv(data_path+'rf_3M.csv')\n",
    "rf_3M.Date = pd.to_datetime(rf_3M.Date)\n",
    "rf_3M = rf_3M.set_index('Date')\n",
    "rf_3M = rf_3M.rename(columns={'Value': 'rf_rate'})\n",
    "rf_3M = pd.merge_asof(left=sp500.loc[:, []], right=rf_3M, left_index=True, right_index=True, direction='backward')\n",
    "\n",
    "rf_3M_o = rf_3M.copy()\n",
    "rf_3M_c = rf_3M.copy()\n",
    "rf_3M_o.index = rf_3M_o.index + timedelta(hours=9, minutes=30)\n",
    "rf_3M_c.index = rf_3M_c.index + timedelta(hours=16, minutes=0)\n",
    "rf_3M_oc = pd.concat([rf_3M_o, rf_3M_c]).sort_index()"
   ]
  },
  {
   "cell_type": "code",
   "execution_count": 7,
   "id": "aec57403-3f5d-456f-bdcd-7adbefe94502",
   "metadata": {},
   "outputs": [],
   "source": [
    "R_mo_to_mc = pd.read_csv(data_path + 'return_mo_to_mc.csv', index_col=0)          \n",
    "R_mo_to_mc.index = pd.to_datetime(R_mo_to_mc.index)                                                        \n",
    "R_mo_to_mc = R_mo_to_mc.replace([np.inf, -np.inf, 0.00000], np.nan)\n",
    "\n",
    "R_mc_to_mo = pd.read_csv(data_path + 'return_mc_to_mo.csv', index_col=0)          \n",
    "R_mc_to_mo.index = pd.to_datetime(R_mc_to_mo.index)                                                        \n",
    "R_mc_to_mo = R_mc_to_mo.replace([np.inf, -np.inf, 0.00000], np.nan)              \n",
    "\n",
    "#R_mo_to_mo = pd.read_csv(data_path + 'return_data_moo.csv', index_col=0)          \n",
    "#R_mo_to_mo.index = pd.to_datetime(R_mo_to_mo.index)                                                        \n",
    "#R_mo_to_mo = R_mo_to_mo.replace([np.inf, -np.inf, 0.00000], np.nan)\n",
    "\n",
    "R_mo_to_mc.insert(0, 'interval', 'mo_to_mc')\n",
    "R_mc_to_mo.insert(0, 'interval', 'mc_to_mo')\n",
    "\n",
    "R_mo_to_mc.index = R_mo_to_mc.index + timedelta(hours=16)\n",
    "R_mc_to_mo.index = R_mc_to_mo.index + timedelta(hours=9, minutes=30)\n",
    "\n",
    "asset_returns = pd.concat([R_mo_to_mc, R_mc_to_mo], axis=0).sort_index()\n",
    "return_data = asset_returns.loc[news_event_df.Date[0]-timedelta(days=1) : news_event_df.Date[-1]]\n",
    "#R_mc_to_mo = R_mc_to_mo[R_mc_to_mo.apply(lambda x: sum(x.isna()), axis=1) < 0.8*R_mc_to_mo.shape[1]] # Drop rows with more than 80% NaN values"
   ]
  },
  {
   "cell_type": "code",
   "execution_count": 8,
   "id": "47bced42-fe92-47cd-b603-a530adff34ac",
   "metadata": {},
   "outputs": [],
   "source": [
    "def capm_expected_returns(beta_i):\n",
    "    expected_return = expected_returns.rf_rate + beta_i * (expected_returns['TR_SP500'] - expected_returns.rf_rate)        \n",
    "    return expected_return\n",
    "\n",
    "expected_returns = pd.merge(left=beta_oc.shift(periods=1), right=sp500_returns, left_index=True, right_index=True)\n",
    "expected_returns = pd.merge(left=expected_returns, right=rf_3M_oc, left_index=True, right_index=True)  \n",
    "\n",
    "expected_returns = expected_returns.loc[:,'MLM':'MU'].apply(capm_expected_returns)\n",
    "abnormal_returns = asset_returns.loc[expected_returns.index[0]:expected_returns.index[-1]] - expected_returns"
   ]
  },
  {
   "cell_type": "code",
   "execution_count": 9,
   "id": "d6229faa-3541-4e5e-ac7e-1ff14eeb970a",
   "metadata": {},
   "outputs": [],
   "source": [
    "def match_news_with_returns(news_event_df, use_abnormal_returns, news_window=17.5, order_time='moo'):    \n",
    "    \n",
    "    return_df = abnormal_returns if use_abnormal_returns else return_data\n",
    "    \n",
    "    news_window_h   = int(news_window)\n",
    "    news_window_min = int((news_window % 1)*60)\n",
    "    timestamps = list(return_data.index)\n",
    "    dates = sorted(list(set([date.date() for date in timestamps])))\n",
    "    print(len(dates))\n",
    "    \n",
    "    z_scores_oo = pd.read_csv(data_path+f'z_values_mo_to_mo_127d_rw{idiosync}.csv', encoding='utf-8')      \n",
    "    z_scores_oo.Date = pd.to_datetime(z_scores_oo.Date)                                   \n",
    "    z_scores_oo = z_scores_oo.set_index('Date')  \n",
    "    z_scores_oo.index = z_scores_oo.index + timedelta(hours=9, minutes=30)\n",
    "    z_scores_oo.insert(0, 'interval', 'mo_to_mo')\n",
    "\n",
    "    z_scores_oc = pd.read_csv(data_path+f'z_values_mo_to_mc_127d_rw{idiosync}.csv', encoding='utf-8')      \n",
    "    z_scores_oc.Date = pd.to_datetime(z_scores_oc.Date)                                   \n",
    "    z_scores_oc = z_scores_oc.set_index('Date')  \n",
    "    z_scores_oc.index = z_scores_oc.index + timedelta(hours=16, minutes=0)\n",
    "    z_scores_oc.insert(0, 'interval', 'mo_to_mc')\n",
    "\n",
    "    z_scores = pd.concat([z_scores_oo, z_scores_oc]).sort_index()\n",
    "    z_scores = pd.merge(left=pd.DataFrame(index=timestamps), right=z_scores, left_index=True, right_index=True, how='left')\n",
    "\n",
    "        \n",
    "    for i, date in tqdm(enumerate(dates[:-8])):\n",
    "        if i >= 5:\n",
    "            #ticker = news_event_df.loc[news_event_df.Date.dt.date == date, :].index.get_level_values('Ticker').unique()\n",
    "\n",
    "            if order_time == 'moo': \n",
    "                rw_end   = datetime.combine(date, time(9,30))\n",
    "                rw_start = rw_end - timedelta(hours=news_window_h, minutes=news_window_min)\n",
    "\n",
    "            df = news_event_df.loc[((rw_start <= news_event_df.index.get_level_values('Timestamp_ET')) & \n",
    "                                     (news_event_df.index.get_level_values('Timestamp_ET') <= rw_end), slice(None)), \n",
    "                                     ['Date', 'Prediction value', 'freshness', 'topic_1', 'topic_2', 'topic_3', 'topic_4']]\n",
    "            \n",
    "            ticker = df.index.get_level_values('Ticker').unique()\n",
    "\n",
    "            for j, return_j in enumerate(r_cols):\n",
    "                for t in ['o', 'c']:\n",
    "                    col = return_j + t\n",
    "                    if t == 'o':           \n",
    "                        r_j = return_df.loc[datetime.combine(dates[i-5+j], time(9,30)), ticker].rename(col)\n",
    "                    elif t == 'c':\n",
    "                        r_j = return_df.loc[datetime.combine(dates[i-5+j], time(16,0)), ticker].rename(col)\n",
    "\n",
    "                    if ((j == 0) & (t == 'o')):\n",
    "                        values = r_j\n",
    "                    else:\n",
    "                        values = pd.concat([values, r_j], axis=1)\n",
    "\n",
    "                        \n",
    "            for j, zval_j in enumerate(z_cols):\n",
    "                for t in ['o', 'c']:\n",
    "                    col = zval_j + t\n",
    "                    if t == 'o':                     \n",
    "                        z_j = z_scores.loc[datetime.combine(dates[i-3+j], time(9,30)),  ticker].rename(col)\n",
    "                    elif t == 'c':\n",
    "                        z_j = z_scores.loc[datetime.combine(dates[i-3+j], time(16,0)),  ticker].rename(col)\n",
    "\n",
    "                    values = pd.concat([values, z_j], axis=1)\n",
    "            \n",
    "            if i == 5:\n",
    "                new_df = pd.merge(df.reset_index(), values, on='Ticker', how = 'inner')\n",
    "            else:\n",
    "                new_df = pd.concat([new_df, pd.merge(df.reset_index(), values, on='Ticker', how = 'inner')])\n",
    "\n",
    "    return new_df"
   ]
  },
  {
   "cell_type": "code",
   "execution_count": 10,
   "id": "e88833b4-8c6a-4b68-9d5f-f416fe8502db",
   "metadata": {},
   "outputs": [
    {
     "name": "stdout",
     "output_type": "stream",
     "text": [
      "4736\n"
     ]
    },
    {
     "data": {
      "application/vnd.jupyter.widget-view+json": {
       "model_id": "b58407f7c7b74c159eefac4c669b4cae",
       "version_major": 2,
       "version_minor": 0
      },
      "text/plain": [
       "0it [00:00, ?it/s]"
      ]
     },
     "metadata": {},
     "output_type": "display_data"
    }
   ],
   "source": [
    "trade_time = 'MOO'\n",
    "use_abnormal_returns  = True\n",
    "idiosync_z_scores     = True\n",
    "\n",
    "abn = '_abn' if use_abnormal_returns else '' \n",
    "idiosync = '_idiosync' if idiosync_z_scores else ''\n",
    "\n",
    "if trade_time == 'MOO':\n",
    "    new_df = match_news_with_returns(news_event_df, use_abnormal_returns, news_window=17.5, order_time='moo')\n",
    "    new_df.to_csv(extended_model_path+f'train_valid_data_pred_and{abn}_returns_oc_17_5h_z_val{idiosync}_fresh_'+str(2002)+'-'+str(2021)+'_v2.csv', encoding='utf-8-sig', index=False)  "
   ]
  },
  {
   "cell_type": "markdown",
   "id": "f0c91b64-187f-41b4-9be7-1dbae1c17591",
   "metadata": {},
   "source": [
    "## \n",
    "**Load File**"
   ]
  },
  {
   "cell_type": "code",
   "execution_count": 4,
   "id": "9f6967b2-8b63-434a-bc82-08602d8e5ca2",
   "metadata": {},
   "outputs": [],
   "source": [
    "use_abnormal_returns  = True\n",
    "idiosync_z_scores     = True\n",
    "abn = '_abn' if use_abnormal_returns else '' \n",
    "idiosync = '_idiosync' if idiosync_z_scores else ''\n",
    "\n",
    "file1 = f'train_valid_data_pred_and{abn}_returns_oc_17_5h_z_val{idiosync}_fresh_2002-2021.csv'\n",
    "\n",
    "df_oc = load_data(extended_model_path+file1)       \n",
    "\n",
    "# Rename Columns\n",
    "for col in list(df_oc.loc[:, 'r_tVo':'r_t6c'].columns):\n",
    "    df_oc = df_oc.rename(columns={col:re.sub(r'r_t', 't', col)})\n",
    "    \n",
    "    \n",
    "    \n",
    "# Filter for article freshness and topics\n",
    "freshness  = None                               # 'stale', 'fresh', None\n",
    "sel_topics = []\n",
    "\n",
    "if freshness != None:\n",
    "    df_oc = df_oc.loc[df_oc.freshness == freshness]\n",
    "\n",
    "if len(sel_topics) > 0:\n",
    "    df_oc = df_oc.loc[df_oc.loc[:, sel_topics].sum(axis=1) > 0]    "
   ]
  },
  {
   "cell_type": "code",
   "execution_count": 5,
   "id": "4aa15cd6-e12a-478d-a377-74548a3564f2",
   "metadata": {},
   "outputs": [
    {
     "data": {
      "text/plain": [
       "(128085, 41)"
      ]
     },
     "execution_count": 5,
     "metadata": {},
     "output_type": "execute_result"
    }
   ],
   "source": [
    "df_oc.shape"
   ]
  },
  {
   "cell_type": "code",
   "execution_count": 77,
   "id": "7835b550-1224-4fa5-8b73-34e0af81ed60",
   "metadata": {},
   "outputs": [],
   "source": [
    "vix = pd.read_csv(\"C:/Users/Stefa/Documents/Uni/Projektassistenz/Financial Data/VIX.csv\", encoding=\"utf-8\")\n",
    "vix.date = pd.to_datetime(vix.date)\n",
    "vix = vix.set_index('date')\n",
    "\n",
    "volatile_dates = vix.loc[vix.vix > 20].index\n",
    "#volatile_dates = vix.loc[vix.vix <= 20].index"
   ]
  },
  {
   "cell_type": "code",
   "execution_count": 78,
   "id": "5b212182-0ac0-43ef-8a67-07846a2aaa84",
   "metadata": {},
   "outputs": [
    {
     "data": {
      "text/plain": [
       "(38346, 41)"
      ]
     },
     "execution_count": 78,
     "metadata": {},
     "output_type": "execute_result"
    }
   ],
   "source": [
    "# Filter for volatility\n",
    "df_oc = df_oc.loc[(slice(None), df_oc.index.get_level_values(1).isin(volatile_dates)), :]\n",
    "df_oc.shape"
   ]
  },
  {
   "cell_type": "code",
   "execution_count": 79,
   "id": "9ca8a441-a0dd-4e76-bdcf-653c65018263",
   "metadata": {},
   "outputs": [],
   "source": [
    "# Use Latex Font\n",
    "fontsize = 12\n",
    "rc('font', **{'family': 'serif', 'serif': ['Computer Modern'], 'size': fontsize})\n",
    "rc('text', usetex=True)"
   ]
  },
  {
   "cell_type": "code",
   "execution_count": 80,
   "id": "ebca4749-0925-4c1f-ad99-dc07e2a6b23a",
   "metadata": {},
   "outputs": [
    {
     "name": "stdout",
     "output_type": "stream",
     "text": [
      "Observations Case Neg. sentiment, neg. z-score: 1329\n",
      "Observations Case Neg. sentiment, pos. z-score: 1217\n",
      "Observations Case Pos. sentiment, pos. z-score: 1164\n",
      "Observations Case Pos. sentiment, neg. z-score: 976\n"
     ]
    },
    {
     "data": {
      "image/png": "[encoded data removed]",
      "text/plain": [
       "<Figure size 864x432 with 1 Axes>"
      ]
     },
     "metadata": {
      "needs_background": "light"
     },
     "output_type": "display_data"
    }
   ],
   "source": [
    "ex_post = False\n",
    "\n",
    "period_start = datetime(2002,1,1)\n",
    "period_end   = datetime(2019,12,31)\n",
    "\n",
    "export      = False   # save to file\n",
    "z_score_val = 1.0\n",
    "filename = \"event_study_oc_2002_2020_z_score_1_645_vix_below_20\"\n",
    "\n",
    "cases = {}\n",
    "cases['Neg. sentiment, neg. z-score'] = ((df_oc.prediction_value <= -0.95) &\n",
    "                                         (df_oc.z_tIc <= -z_score_val))\n",
    "cases['Neg. sentiment, pos. z-score'] = ((df_oc.prediction_value <= -0.95) &\n",
    "                                         (df_oc.z_tIc >= z_score_val))\n",
    "cases['Pos. sentiment, pos. z-score'] = ((df_oc.prediction_value >= 0.95) &\n",
    "                                         (df_oc.z_tIc >= z_score_val))\n",
    "cases['Pos. sentiment, neg. z-score'] = ((df_oc.prediction_value >= 0.95) &\n",
    "                                         (df_oc.z_tIc <= -z_score_val))\n",
    "\n",
    "\n",
    "# linestyles\n",
    "col0 = [\"#348ABD\", \"#348ABD\", \"#A60628\", \"#A60628\"]\n",
    "col1 = [\"b\", \"b\", \"r\", \"r\"]\n",
    "line = [\"dashed\", \"dashdot\", \"dashed\", \"dashdot\"]\n",
    "\n",
    "#cases[5] = ((df_oc.prediction_value <= -0.95) &\n",
    "#            (df_oc.z_to       <= -1.645)      &\n",
    "#            (abs(df_oc.z_tIc) <=  0.5))\n",
    "\n",
    "#cases['neg_sentiment'] = (df_oc.prediction_value <= -0.95) \n",
    "#cases['pos_sentiment'] = (df_oc.prediction_value >=  0.95)\n",
    "\n",
    "#ticks = [col+t for col in r_cols for t in ['o', 'c']]\n",
    "\n",
    "def get_price(case, ex_post, period_start, period_end):    \n",
    "    if ex_post:\n",
    "        df_sel = df_oc.loc[cases[case], 'to':'t6c']\n",
    "    else:\n",
    "        df_sel = df_oc.loc[cases[case], 'tIIIo':'t3c']\n",
    "      \n",
    "    ticks  = df_sel.columns\n",
    "    df_sel = df_sel.loc[(slice(None), ((df_sel.index.get_level_values(1) >= period_start) & \n",
    "                                       (df_sel.index.get_level_values(1) <= period_end))), :]\n",
    "    n = df_sel.shape[0]\n",
    "    mean = df_sel.mean()\n",
    "    mean[0] = 0\n",
    "    std  = df_sel.std()\n",
    "    std_err = std/np.sqrt(n)\n",
    "    t_value = mean/std_err\n",
    "    \n",
    "    p  = (100*(mean+1).cumprod().values).astype(np.float32)\n",
    "    pu = (100*(mean+std_err+1).cumprod().values).astype(np.float32)\n",
    "    pl = (100*(mean-std_err+1).cumprod().values).astype(np.float32)\n",
    "    return p, pu, pl, n, ticks, t_value\n",
    "\n",
    "\n",
    "t_values = {}\n",
    "fig, ax = plt.subplots(figsize=(12,6))\n",
    "for j, case in enumerate(cases):\n",
    "    p, pu, pl, n, ticks, t_value = get_price(case, ex_post, period_start, period_end)\n",
    "    t_values[case] = t_value\n",
    "    print(f'Observations Case {case}: {n}')\n",
    "    ax.plot(ticks, p, linewidth=1.25, label=f\"{case}\", linestyle=line[j], color=col0[j])\n",
    "    ax.fill_between(ticks, pu, pl, alpha=.1, color=col1[j]) \n",
    "plt.legend()\n",
    "if export:\n",
    "    plt.savefig(save_path+filename+'_'+datetime.now().strftime(\"%Hh%Mm%Ss\")+'.pdf', dpi=100, facecolor='w', edgecolor='w', orientation='portrait')\n",
    "plt.show()"
   ]
  },
  {
   "cell_type": "code",
   "execution_count": 81,
   "id": "c222aae2-308d-4804-a16a-650c53bdacbd",
   "metadata": {},
   "outputs": [
    {
     "data": {
      "text/html": [
       "<div>\n",
       "<style scoped>\n",
       "    .dataframe tbody tr th:only-of-type {\n",
       "        vertical-align: middle;\n",
       "    }\n",
       "\n",
       "    .dataframe tbody tr th {\n",
       "        vertical-align: top;\n",
       "    }\n",
       "\n",
       "    .dataframe thead th {\n",
       "        text-align: right;\n",
       "    }\n",
       "</style>\n",
       "<table border=\"1\" class=\"dataframe\">\n",
       "  <thead>\n",
       "    <tr style=\"text-align: right;\">\n",
       "      <th></th>\n",
       "      <th>Neg. sentiment, neg. z-score</th>\n",
       "      <th>Neg. sentiment, pos. z-score</th>\n",
       "      <th>Pos. sentiment, pos. z-score</th>\n",
       "      <th>Pos. sentiment, neg. z-score</th>\n",
       "    </tr>\n",
       "  </thead>\n",
       "  <tbody>\n",
       "    <tr>\n",
       "      <th>tIIIo</th>\n",
       "      <td>0.000000</td>\n",
       "      <td>0.000000</td>\n",
       "      <td>0.000000</td>\n",
       "      <td>0.000000</td>\n",
       "    </tr>\n",
       "    <tr>\n",
       "      <th>tIIIc</th>\n",
       "      <td>1.890982</td>\n",
       "      <td>-1.565709</td>\n",
       "      <td>-3.013740</td>\n",
       "      <td>0.521484</td>\n",
       "    </tr>\n",
       "    <tr>\n",
       "      <th>tIIo</th>\n",
       "      <td>2.159954</td>\n",
       "      <td>1.131437</td>\n",
       "      <td>0.345067</td>\n",
       "      <td>3.370874</td>\n",
       "    </tr>\n",
       "    <tr>\n",
       "      <th>tIIc</th>\n",
       "      <td>-2.636725</td>\n",
       "      <td>2.105679</td>\n",
       "      <td>0.224598</td>\n",
       "      <td>-0.288995</td>\n",
       "    </tr>\n",
       "    <tr>\n",
       "      <th>tIo</th>\n",
       "      <td>-3.084140</td>\n",
       "      <td>-2.083879</td>\n",
       "      <td>4.116254</td>\n",
       "      <td>2.355861</td>\n",
       "    </tr>\n",
       "    <tr>\n",
       "      <th>tIc</th>\n",
       "      <td>-36.898988</td>\n",
       "      <td>32.777445</td>\n",
       "      <td>35.765017</td>\n",
       "      <td>-33.993129</td>\n",
       "    </tr>\n",
       "    <tr>\n",
       "      <th>to</th>\n",
       "      <td>-9.522892</td>\n",
       "      <td>-3.716560</td>\n",
       "      <td>10.438208</td>\n",
       "      <td>7.956815</td>\n",
       "    </tr>\n",
       "    <tr>\n",
       "      <th>tc</th>\n",
       "      <td>1.269628</td>\n",
       "      <td>-3.791026</td>\n",
       "      <td>0.925390</td>\n",
       "      <td>2.993075</td>\n",
       "    </tr>\n",
       "    <tr>\n",
       "      <th>t1o</th>\n",
       "      <td>4.137061</td>\n",
       "      <td>5.833046</td>\n",
       "      <td>4.056698</td>\n",
       "      <td>3.248432</td>\n",
       "    </tr>\n",
       "    <tr>\n",
       "      <th>t1c</th>\n",
       "      <td>-0.100482</td>\n",
       "      <td>-3.756606</td>\n",
       "      <td>-2.236179</td>\n",
       "      <td>0.759907</td>\n",
       "    </tr>\n",
       "    <tr>\n",
       "      <th>t2o</th>\n",
       "      <td>3.244812</td>\n",
       "      <td>4.056954</td>\n",
       "      <td>2.310789</td>\n",
       "      <td>2.437251</td>\n",
       "    </tr>\n",
       "    <tr>\n",
       "      <th>t2c</th>\n",
       "      <td>-1.134086</td>\n",
       "      <td>0.399971</td>\n",
       "      <td>-0.839696</td>\n",
       "      <td>0.309863</td>\n",
       "    </tr>\n",
       "    <tr>\n",
       "      <th>t3o</th>\n",
       "      <td>2.691107</td>\n",
       "      <td>4.851581</td>\n",
       "      <td>3.384957</td>\n",
       "      <td>1.330785</td>\n",
       "    </tr>\n",
       "    <tr>\n",
       "      <th>t3c</th>\n",
       "      <td>2.595376</td>\n",
       "      <td>0.221371</td>\n",
       "      <td>1.181913</td>\n",
       "      <td>1.789400</td>\n",
       "    </tr>\n",
       "  </tbody>\n",
       "</table>\n",
       "</div>"
      ],
      "text/plain": [
       "       Neg. sentiment, neg. z-score  Neg. sentiment, pos. z-score  \\\n",
       "tIIIo                      0.000000                      0.000000   \n",
       "tIIIc                      1.890982                     -1.565709   \n",
       "tIIo                       2.159954                      1.131437   \n",
       "tIIc                      -2.636725                      2.105679   \n",
       "tIo                       -3.084140                     -2.083879   \n",
       "tIc                      -36.898988                     32.777445   \n",
       "to                        -9.522892                     -3.716560   \n",
       "tc                         1.269628                     -3.791026   \n",
       "t1o                        4.137061                      5.833046   \n",
       "t1c                       -0.100482                     -3.756606   \n",
       "t2o                        3.244812                      4.056954   \n",
       "t2c                       -1.134086                      0.399971   \n",
       "t3o                        2.691107                      4.851581   \n",
       "t3c                        2.595376                      0.221371   \n",
       "\n",
       "       Pos. sentiment, pos. z-score  Pos. sentiment, neg. z-score  \n",
       "tIIIo                      0.000000                      0.000000  \n",
       "tIIIc                     -3.013740                      0.521484  \n",
       "tIIo                       0.345067                      3.370874  \n",
       "tIIc                       0.224598                     -0.288995  \n",
       "tIo                        4.116254                      2.355861  \n",
       "tIc                       35.765017                    -33.993129  \n",
       "to                        10.438208                      7.956815  \n",
       "tc                         0.925390                      2.993075  \n",
       "t1o                        4.056698                      3.248432  \n",
       "t1c                       -2.236179                      0.759907  \n",
       "t2o                        2.310789                      2.437251  \n",
       "t2c                       -0.839696                      0.309863  \n",
       "t3o                        3.384957                      1.330785  \n",
       "t3c                        1.181913                      1.789400  "
      ]
     },
     "execution_count": 81,
     "metadata": {},
     "output_type": "execute_result"
    }
   ],
   "source": [
    "pd.DataFrame.from_dict(t_values)"
   ]
  },
  {
   "cell_type": "code",
   "execution_count": null,
   "id": "25f04227-65dc-48e0-b4b3-cfe545159b9a",
   "metadata": {},
   "outputs": [],
   "source": []
  },
  {
   "cell_type": "markdown",
   "id": "6a2b633f-eaf1-41fa-bb7d-6affd1a46bc2",
   "metadata": {},
   "source": [
    "## \n",
    "### Descriptive Regressions"
   ]
  },
  {
   "cell_type": "code",
   "execution_count": 5,
   "id": "4acb31f7-dd31-4d3e-9e18-3af4d6b7f76a",
   "metadata": {},
   "outputs": [],
   "source": [
    "from sklearn.svm import SVR\n",
    "from sklearn.pipeline import make_pipeline\n",
    "from sklearn.preprocessing import StandardScaler\n",
    "\n",
    "vix = pd.read_csv(\"C:/Users/Stefa/Documents/Uni/Projektassistenz/Financial Data/VIX.csv\", encoding=\"utf-8\")\n",
    "vix.date = pd.to_datetime(vix.date)\n",
    "vix = vix.set_index('date')"
   ]
  },
  {
   "cell_type": "code",
   "execution_count": 767,
   "id": "b6ff1e49-fc6d-4882-afbd-17b8feccabc9",
   "metadata": {},
   "outputs": [
    {
     "name": "stdout",
     "output_type": "stream",
     "text": [
      "0 z-scores and 2 returns are missing\n",
      "0 z-scores and 1 returns are missing\n",
      "0 z-scores and 2 returns are missing\n",
      "0 z-scores and 0 returns are missing\n"
     ]
    },
    {
     "data": {
      "text/html": [
       "<table style=\"text-align:center\"><tr><td colspan=\"5\" style=\"border-bottom: 1px solid black\"></td></tr><tr><td style=\"text-align:left\"></td><td colspan=\"4\"><em>Dependent variable:return (open to close)</em></td></tr><tr><td style=\"text-align:left\"></td><tr><td></td><td colspan=\"1\">Sentiment N, z-score N</td><td colspan=\"1\">Sentiment N, z-score P</td><td colspan=\"1\">Sentiment P, z-score N</td><td colspan=\"1\">Sentiment P, z-score P</td></tr><tr><td style=\"text-align:left\"></td><td>(1)</td><td>(2)</td><td>(3)</td><td>(4)</td></tr><tr><td colspan=\"5\" style=\"border-bottom: 1px solid black\"></td></tr><tr><td style=\"text-align:left\">intercept</td><td>-0.0157<sup>***</sup></td><td>-0.0160<sup>***</sup></td><td>0.0138<sup>***</sup></td><td>0.0130<sup>***</sup></td></tr><tr><td style=\"text-align:left\"></td><td>(-25.4837)</td><td>(-25.1518)</td><td>(26.8787)</td><td>(28.3014)</td></tr><tr><td style=\"text-align:left\">z_score</td><td>-0.0010<sup>**</sup></td><td>0.0029<sup>***</sup></td><td>0.0015<sup>***</sup></td><td>-0.0004<sup></sup></td></tr><tr><td style=\"text-align:left\"></td><td>(-2.2470)</td><td>(6.3809)</td><td>(3.3349)</td><td>(-1.2742)</td></tr><td colspan=\"5\" style=\"border-bottom: 1px solid black\"></td></tr><tr><td style=\"text-align: left\">Observations</td><td>10,869</td><td>10,336</td><td>12,382</td><td>13,740</td></tr><tr><td style=\"text-align: left\">R<sup>2</sup></td><td>0.0005</td><td>0.0039</td><td>0.0009</td><td>0.0001</td></tr><tr><td style=\"text-align: left\">Adjusted R<sup>2</sup></td><td>0.0004</td><td>0.0038</td><td>0.0008</td><td>0.0000</td></tr><tr><td style=\"text-align: left\">Residual Std. Error</td><td>0.0468</td><td>0.0487</td><td>0.0393</td><td>0.0399</td></tr><tr><td style=\"text-align: left\">F Statistic</td><td>5.0490<sup>**</sup></td><td>40.7155<sup>***</sup></td><td>11.1217<sup>***</sup></td><td>1.6236<sup></sup></td></tr><tr><td colspan=\"5\" style=\"border-bottom: 1px solid black\"></td></tr><tr><td style=\"text-align: left\">Note:</td>\n",
       " <td colspan=\"4\" style=\"text-align: right\">\n",
       "  <sup>*</sup>p&lt;0.1;\n",
       "  <sup>**</sup>p&lt;0.05;\n",
       "  <sup>***</sup>p&lt;0.01\n",
       " </td></tr></table>"
      ],
      "text/plain": [
       "<IPython.core.display.HTML object>"
      ]
     },
     "metadata": {},
     "output_type": "display_data"
    }
   ],
   "source": [
    "start_date = datetime(2002,1,1)\n",
    "end_date   = datetime(2020,12,31)\n",
    "filter_vix = False\n",
    "volatile_dates = vix.loc[vix.vix >= 20].index\n",
    "#volatile_dates = vix.loc[vix.vix <= 20].index\n",
    "cases = {}\n",
    "model = {}\n",
    "y = ('to', 'return (open to close)')\n",
    "\n",
    "def get_beta(x):\n",
    "    return beta.loc[x.name[1], x.name[0]] \n",
    "\n",
    "sel_df_oc = df_oc.loc[(slice(None), ((df_oc.index.get_level_values(1) >= start_date) &  \n",
    "                                     (df_oc.index.get_level_values(1) <  end_date))), :].copy()\n",
    "\n",
    "if filter_vix:\n",
    "    scaler = StandardScaler()\n",
    "    scaler.fit(vix.loc[sel_df_oc.index.get_level_values(1)].values)\n",
    "    sel_df_oc['vix'] = scaler.transform(vix.loc[sel_df_oc.index.get_level_values(1)].values)   \n",
    "    sel_df_oc = sel_df_oc.loc[sel_df_oc.index.get_level_values(1).isin(volatile_dates)]\n",
    "\n",
    "\n",
    "cases['Neg. sentiment, neg. z-score'] = ((sel_df_oc.prediction_value <= -0.9) &\n",
    "                                         (sel_df_oc.z_tIc < 0))\n",
    "cases['Neg. sentiment, pos. z-score'] = ((sel_df_oc.prediction_value <= -0.9) &\n",
    "                                         (sel_df_oc.z_tIc > 0))\n",
    "cases['Pos. sentiment, neg. z-score'] = ((sel_df_oc.prediction_value >= 0.9)  &\n",
    "                                         (sel_df_oc.z_tIc < 0))\n",
    "cases['Pos. sentiment, pos. z-score'] = ((sel_df_oc.prediction_value >= 0.9)  &\n",
    "                                         (sel_df_oc.z_tIc > 0))\n",
    "\n",
    "\n",
    "for case in cases.keys():   \n",
    "    # Create sentiment dummy variable with the values -1, 1 and 0   \n",
    "    #sel_df_oc.prediction_value = sel_df_oc.prediction_value.apply(lambda x: 1 if x >= 0.95 else -1 if x <= -0.95 else 0)  \n",
    "    \n",
    "    X_y = sel_df_oc.loc[cases[case]][[y[0], 'z_tIc', 'prediction_value']].astype('float64')\n",
    "    X_y.columns = [y[1], 'z_score', 'sentiment']   # rename columns\n",
    "    X_y.insert(1, 'intercept', 1)                  # add intercept\n",
    "    \n",
    "    # Data Imputation (use the mean for missing values)\n",
    "    print(f\"{X_y['z_score'].isna().sum()} z-scores and {X_y[y[1]].isna().sum()} returns are missing\")\n",
    "    X_y.loc[X_y.z_score.isna(), 'z_score'] = X_y.loc[~X_y.z_score.isna(), 'z_score'].mean()\n",
    "    X_y.loc[X_y[y[1]].isna(), y[1]] = X_y.loc[~X_y[y[1]].isna(), y[1]].mean()\n",
    "    \n",
    "    X_y['sentiment^2']  =  X_y['sentiment']**2\n",
    "    X_y['z_score^2']    =  X_y['z_score']**2\n",
    "    X_y['cross-term']   = (X_y['z_score'] * X_y['sentiment'])\n",
    "    X_y['cross-term^2'] = (X_y['z_score'] * X_y['sentiment'])**2\n",
    "    X_y['vix']          = np.log(vix.loc[X_y.index.get_level_values(1)].values)\n",
    "    X_y['beta']         = X_y.apply(get_beta, axis=1)\n",
    "    \n",
    "    #variables = ['intercept', 'z_score', 'sentiment', 'cross-term', 'z_score^2', 'sentiment^2', 'cross-term^2', 'vix', 'beta']\n",
    "    #variables = ['intercept', 'cross-term', 'cross-term^2']\n",
    "    variables = ['intercept', 'z_score']\n",
    "    model[case] = sm.OLS(X_y[y[1]], X_y[variables]).fit()   \n",
    "    \n",
    "    \n",
    "    \n",
    "stargazer = MyStargazer([model['Neg. sentiment, neg. z-score'], \n",
    "                         model['Neg. sentiment, pos. z-score'],\n",
    "                         model['Pos. sentiment, neg. z-score'],\n",
    "                         model['Pos. sentiment, pos. z-score']])\n",
    "\n",
    "stargazer.significant_digits(4)\n",
    "stargazer.custom_columns(['Sentiment N, z-score N', 'Sentiment N, z-score P', 'Sentiment P, z-score N', 'Sentiment P, z-score P'], [1, 1, 1, 1])\n",
    "stargazer.show_model_numbers(True)\n",
    "stargazer.covariate_order(variables)\n",
    "stargazer.show_degrees_of_freedom(False)\n",
    "display(HTML(stargazer.render_html()))"
   ]
  },
  {
   "cell_type": "code",
   "execution_count": 551,
   "id": "46bb986d-6ee0-4c25-8953-5c8dd80451eb",
   "metadata": {},
   "outputs": [
    {
     "name": "stdout",
     "output_type": "stream",
     "text": [
      "\\begin{table}[!htbp] \\centering\n",
      "\\begin{tabular}{@{\\extracolsep{5pt}}lcccc}\n",
      "\\\\[-1.8ex]\\hline\n",
      "\\hline \\\\[-1.8ex]\n",
      "& \\multicolumn{4}{c}{\\textit{Dependent variable:}} \\\n",
      "\\cr \\cline{4-5}\n",
      "\\\\[-1.8ex] & \\multicolumn{1}{c}{Sentiment N, z-score N} & \\multicolumn{1}{c}{Sentiment N, z-score P} & \\multicolumn{1}{c}{Sentiment P, z-score N} & \\multicolumn{1}{c}{Sentiment P, z-score P}  \\\\\n",
      "\\\\[-1.8ex] & (1) & (2) & (3) & (4) \\\\\n",
      "\\hline \\\\[-1.8ex]\n",
      " intercept & -0.0004$^{}$ & 0.0012$^{*}$ & 0.0006$^{}$ & -0.0004$^{}$ \\\\\n",
      "  & (-0.6279) & (1.9509) & (1.3218) & (-1.1290) \\\\\n",
      " cross-term & 0.0006$^{}$ & 0.0042$^{***}$ & -0.0011$^{***}$ & -0.0004$^{}$ \\\\\n",
      "  & (1.4121) & (9.1289) & (-2.8501) & (-1.4628) \\\\\n",
      "\\hline \\\\[-1.8ex]\n",
      " Observations & 10,869 & 10,336 & 12,382 & 13,740 \\\\\n",
      " $R^2$ & 0.0002 & 0.0080 & 0.0007 & 0.0002 \\\\\n",
      " Adjusted $R^2$ & 0.0001 & 0.0079 & 0.0006 & 0.0001 \\\\\n",
      " Residual Std. Error & 0.0470 & 0.0487 & 0.0323 & 0.0317  \\\\\n",
      " F Statistic & 1.9940$^{}$  & 83.3360$^{***}$  & 8.1231$^{***}$  & 2.1397$^{}$  \\\\\n",
      "\\hline\n",
      "\\hline \\\\[-1.8ex]\n",
      "\\textit{Note:} & \\multicolumn{4}{r}{$^{*}$p$<$0.1; $^{**}$p$<$0.05; $^{***}$p$<$0.01} \\\\\n",
      "\\end{tabular}\n",
      "\\end{table}\n"
     ]
    }
   ],
   "source": [
    "print(stargazer.render_latex())"
   ]
  },
  {
   "cell_type": "code",
   "execution_count": 311,
   "id": "3310fff4-1337-4e9a-95f7-1ad23ba87472",
   "metadata": {},
   "outputs": [
    {
     "data": {
      "image/png": "[encoded data removed]",
      "text/plain": [
       "<Figure size 576x576 with 1 Axes>"
      ]
     },
     "metadata": {
      "needs_background": "light"
     },
     "output_type": "display_data"
    }
   ],
   "source": [
    "z_score_range = [(-2,0), (0,2)]\n",
    "sentiment     = {'neg': -0.95, 'pos': 0.95}\n",
    "\n",
    "k = 20\n",
    "j = 0\n",
    "y_pred = {}\n",
    "#vix_value = 20\n",
    "#x_vix = np.array([scaler.transform(np.array([vix_value]).reshape(1,-1))[0][0]]*k)\n",
    "\n",
    "for s in sentiment.keys():\n",
    "    y_pred[s] = np.array([])    \n",
    "    for z in z_score_range:        \n",
    "        z_vals = np.linspace(z[0], z[1], k)\n",
    "        X_pred = np.c_[np.ones(k), z_vals*np.array([sentiment[s]]*k), (z_vals*np.array([sentiment[s]]*k))**2]\n",
    "        y_pred[s] = np.hstack((y_pred[s], model[list(cases.keys())[j]].predict(X_pred)))       \n",
    "        #print(f\"Sentiment: {sentiment[s]}, z-scores: {z_vals}, model: {list(cases.keys())[j]}\")\n",
    "        j+=1\n",
    "        \n",
    "\n",
    "\n",
    "                \n",
    "xaxis = np.linspace(z_score_range[0][0], z_score_range[-1][-1], 2*k)\n",
    "fig, ax = plt.subplots(1,1,figsize=(8,8))\n",
    "ax.plot(xaxis, y_pred['neg']*100, label='Negative sentiment')\n",
    "ax.plot(xaxis, y_pred['pos']*100, label='Positive sentiment')\n",
    "ax.set_ylim([-2, 2])\n",
    "ax.set_xlim([-2, 2])\n",
    "plt.legend()\n",
    "plt.show()"
   ]
  },
  {
   "cell_type": "markdown",
   "id": "c8927ebc-1201-4dbf-ab4b-76d0cdb26c95",
   "metadata": {},
   "source": [
    "Unconditional (No news events)"
   ]
  },
  {
   "cell_type": "code",
   "execution_count": 716,
   "id": "c00d9e15-5d57-4497-b291-964ba54a6c3e",
   "metadata": {},
   "outputs": [],
   "source": [
    "z_vals_file_open_to_close = f'z_values_127d_mo_to_mc_idiosync_abn_returns_mo_to_mc_excl_cond_2002-2021.csv'\n",
    "z_vals_file_close_to_open = f'z_values_127d_mo_to_mc_idiosync_abn_returns_mc_to_mo_excl_cond_2002-2021.csv'\n",
    "\n",
    "z_val_r_c = pd.read_csv(extended_model_path+z_vals_file_open_to_close, encoding='utf-8-sig') \n",
    "z_val_r_c = z_val_r_c.rename(columns = {'Unnamed: 0':'Ticker'})\n",
    "z_val_r_c.Date = pd.to_datetime(z_val_r_c.Date)\n",
    "z_val_r_c = z_val_r_c.set_index(['Ticker', 'Date']) \n",
    "\n",
    "z_val_r_o = pd.read_csv(extended_model_path+z_vals_file_close_to_open, encoding='utf-8-sig') \n",
    "z_val_r_o = z_val_r_o.rename(columns = {'Unnamed: 0':'Ticker'})\n",
    "z_val_r_o.Date = pd.to_datetime(z_val_r_o.Date)\n",
    "z_val_r_o = z_val_r_o.set_index(['Ticker', 'Date']) \n",
    "\n",
    "z_val_r_o = z_val_r_o[['z_value', 'return_t_1']]\n",
    "z_val_r_o = z_val_r_o.rename(columns={'return_t_1':'return_t_1o'})\n",
    "z_val_r_o = z_val_r_o.sort_index()\n",
    "\n",
    "z_val_r_c = z_val_r_c[['z_value', 'return_t_1']]\n",
    "z_val_r_c = z_val_r_c.rename(columns={'return_t_1':'return_t_1c'})\n",
    "z_val_r_c = z_val_r_c.sort_index()\n",
    "\n",
    "z_val_r = pd.concat([z_val_r_o, z_val_r_c['return_t_1c']], axis=1)"
   ]
  },
  {
   "cell_type": "code",
   "execution_count": 768,
   "id": "21866ee0-e47e-4736-b6bb-14d70e5e46d1",
   "metadata": {},
   "outputs": [
    {
     "data": {
      "text/html": [
       "<table style=\"text-align:center\"><tr><td colspan=\"3\" style=\"border-bottom: 1px solid black\"></td></tr><tr><td style=\"text-align:left\"></td><td colspan=\"2\"><em>Dependent variable:return (open to close)</em></td></tr><tr><td style=\"text-align:left\"></td><tr><td></td><td colspan=\"1\">Neg. z-score</td><td colspan=\"1\">Pos. z-score</td></tr><tr><td style=\"text-align:left\"></td><td>(1)</td><td>(2)</td></tr><tr><td colspan=\"3\" style=\"border-bottom: 1px solid black\"></td></tr><tr><td style=\"text-align:left\">intercept</td><td>0.0001<sup>***</sup></td><td>-0.0002<sup>***</sup></td></tr><tr><td style=\"text-align:left\"></td><td>(5.6046)</td><td>(-12.8342)</td></tr><tr><td style=\"text-align:left\">z_score</td><td>-0.0004<sup>***</sup></td><td>0.0004<sup>***</sup></td></tr><tr><td style=\"text-align:left\"></td><td>(-16.9629)</td><td>(18.7897)</td></tr><td colspan=\"3\" style=\"border-bottom: 1px solid black\"></td></tr><tr><td style=\"text-align: left\">Observations</td><td>1,005,355</td><td>1,012,075</td></tr><tr><td style=\"text-align: left\">R<sup>2</sup></td><td>0.0003</td><td>0.0003</td></tr><tr><td style=\"text-align: left\">Adjusted R<sup>2</sup></td><td>0.0003</td><td>0.0003</td></tr><tr><td style=\"text-align: left\">Residual Std. Error</td><td>0.0146</td><td>0.0132</td></tr><tr><td style=\"text-align: left\">F Statistic</td><td>287.7416<sup>***</sup></td><td>353.0513<sup>***</sup></td></tr><tr><td colspan=\"3\" style=\"border-bottom: 1px solid black\"></td></tr><tr><td style=\"text-align: left\">Note:</td>\n",
       " <td colspan=\"2\" style=\"text-align: right\">\n",
       "  <sup>*</sup>p&lt;0.1;\n",
       "  <sup>**</sup>p&lt;0.05;\n",
       "  <sup>***</sup>p&lt;0.01\n",
       " </td></tr></table>"
      ],
      "text/plain": [
       "<IPython.core.display.HTML object>"
      ]
     },
     "metadata": {},
     "output_type": "display_data"
    }
   ],
   "source": [
    "start_date = datetime(2002,1,1)\n",
    "end_date   = datetime(2020,12,31)\n",
    "filter_vix = False\n",
    "volatile_dates = vix.loc[vix.vix >= 20].index\n",
    "#volatile_dates = vix.loc[vix.vix <= 20].index\n",
    "cases = {}\n",
    "model2 = {}\n",
    "\n",
    "y = ('return_t_1o', 'return (open to close)')\n",
    "\n",
    "def get_beta(x):\n",
    "    return beta.loc[x.name[1], x.name[0]] \n",
    "\n",
    "z_df = z_val_r[['z_value', y[0]]]\n",
    "z_df = z_df.loc[((z_df.index.get_level_values(1) >= start_date) & (z_df.index.get_level_values(1) <  end_date)), :].copy()\n",
    "\n",
    "\n",
    "if filter_vix:\n",
    "    scaler = StandardScaler()\n",
    "    scaler.fit(vix.loc[z_df.index.get_level_values(1)].values)\n",
    "    z_df['vix'] = scaler.transform(vix.loc[z_df.index.get_level_values(1)].values)   \n",
    "    z_df = z_df.loc[z_df.index.get_level_values(1).isin(volatile_dates)]\n",
    "\n",
    "cases['Neg. z-score'] = (z_df.z_value < 0)\n",
    "cases['Pos. z-score'] = (z_df.z_value > 0)\n",
    "\n",
    "\n",
    "for case in cases.keys():      \n",
    "    X_y = z_df.loc[cases[case]][[y[0], 'z_value']].astype('float64')\n",
    "    X_y.columns = [y[1], 'z_score']   # rename columns\n",
    "    X_y.insert(1, 'intercept', 1)     # add intercept\n",
    "    X_y = X_y.dropna()                # remove missing values\n",
    "    \n",
    "    X_y['z_score^2']    = X_y['z_score']**2\n",
    "    X_y['vix']          = np.log(vix.loc[X_y.index.get_level_values(1)].values)\n",
    "    #X_y['beta']         = X_y.apply(get_beta, axis=1)\n",
    "    \n",
    "    variables = ['intercept', 'z_score']\n",
    "    model2[case] = sm.OLS(X_y[y[1]], X_y[variables]).fit()   \n",
    "    \n",
    "\n",
    "stargazer = MyStargazer([model2['Neg. z-score'], \n",
    "                         model2['Pos. z-score']])\n",
    "\n",
    "stargazer.significant_digits(4)\n",
    "stargazer.custom_columns(['Neg. z-score', 'Pos. z-score'], [1, 1])\n",
    "stargazer.show_model_numbers(True)\n",
    "stargazer.covariate_order(variables)\n",
    "stargazer.show_degrees_of_freedom(False)\n",
    "display(HTML(stargazer.render_html()))"
   ]
  },
  {
   "cell_type": "code",
   "execution_count": 752,
   "id": "13de9d66-9022-46ac-be47-97d2d52a8b9f",
   "metadata": {},
   "outputs": [
    {
     "name": "stdout",
     "output_type": "stream",
     "text": [
      "\\begin{table}[!htbp] \\centering\n",
      "\\begin{tabular}{@{\\extracolsep{5pt}}lcc}\n",
      "\\\\[-1.8ex]\\hline\n",
      "\\hline \\\\[-1.8ex]\n",
      "& \\multicolumn{2}{c}{\\textit{Dependent variable:}} \\\n",
      "\\cr \\cline{2-3}\n",
      "\\\\[-1.8ex] & \\multicolumn{1}{c}{Neg. z-score} & \\multicolumn{1}{c}{Pos. z-score}  \\\\\n",
      "\\\\[-1.8ex] & (1) & (2) \\\\\n",
      "\\hline \\\\[-1.8ex]\n",
      " intercept & -0.0001$^{***}$ & 0.0000$^{}$ \\\\\n",
      "  & (-3.2323) & (1.2447) \\\\\n",
      " z_score & 0.0002$^{***}$ & -0.0006$^{***}$ \\\\\n",
      "  & (5.6393) & (-16.8478) \\\\\n",
      "\\hline \\\\[-1.8ex]\n",
      " Observations & 996,222 & 1,003,177 \\\\\n",
      " $R^2$ & 0.0000 & 0.0003 \\\\\n",
      " Adjusted $R^2$ & 0.0000 & 0.0003 \\\\\n",
      " Residual Std. Error & 0.0243 & 0.0246  \\\\\n",
      " F Statistic & 31.8022$^{***}$  & 283.8475$^{***}$  \\\\\n",
      "\\hline\n",
      "\\hline \\\\[-1.8ex]\n",
      "\\textit{Note:} & \\multicolumn{2}{r}{$^{*}$p$<$0.1; $^{**}$p$<$0.05; $^{***}$p$<$0.01} \\\\\n",
      "\\end{tabular}\n",
      "\\end{table}\n"
     ]
    }
   ],
   "source": [
    "print(stargazer.render_latex())"
   ]
  },
  {
   "cell_type": "code",
   "execution_count": 769,
   "id": "05d6e44d-537a-475e-b978-f82eeaf63b19",
   "metadata": {},
   "outputs": [
    {
     "data": {
      "text/html": [
       "<table style=\"text-align:center\"><tr><td colspan=\"7\" style=\"border-bottom: 1px solid black\"></td></tr><tr><td style=\"text-align:left\"></td><td colspan=\"6\"><em>Dependent variable:return (open to close)</em></td></tr><tr><td style=\"text-align:left\"></td><tr><td></td><td colspan=\"1\">Sentiment N, z-score N</td><td colspan=\"1\">Sentiment N, z-score P</td><td colspan=\"1\">Sentiment P, z-score N</td><td colspan=\"1\">Sentiment P, z-score P</td><td colspan=\"1\">Neg. z-score</td><td colspan=\"1\">Pos. z-score</td></tr><tr><td style=\"text-align:left\"></td><td>(1)</td><td>(2)</td><td>(3)</td><td>(4)</td><td>(5)</td><td>(6)</td></tr><tr><td colspan=\"7\" style=\"border-bottom: 1px solid black\"></td></tr><tr><td style=\"text-align:left\">intercept</td><td>-0.0157<sup>***</sup></td><td>-0.0160<sup>***</sup></td><td>0.0138<sup>***</sup></td><td>0.0130<sup>***</sup></td><td>0.0001<sup>***</sup></td><td>-0.0002<sup>***</sup></td></tr><tr><td style=\"text-align:left\"></td><td>(-25.4837)</td><td>(-25.1518)</td><td>(26.8787)</td><td>(28.3014)</td><td>(5.6046)</td><td>(-12.8342)</td></tr><tr><td style=\"text-align:left\">z_score</td><td>-0.0010<sup>**</sup></td><td>0.0029<sup>***</sup></td><td>0.0015<sup>***</sup></td><td>-0.0004<sup></sup></td><td>-0.0004<sup>***</sup></td><td>0.0004<sup>***</sup></td></tr><tr><td style=\"text-align:left\"></td><td>(-2.2470)</td><td>(6.3809)</td><td>(3.3349)</td><td>(-1.2742)</td><td>(-16.9629)</td><td>(18.7897)</td></tr><td colspan=\"7\" style=\"border-bottom: 1px solid black\"></td></tr><tr><td style=\"text-align: left\">Observations</td><td>10,869</td><td>10,336</td><td>12,382</td><td>13,740</td><td>1,005,355</td><td>1,012,075</td></tr><tr><td style=\"text-align: left\">R<sup>2</sup></td><td>0.0005</td><td>0.0039</td><td>0.0009</td><td>0.0001</td><td>0.0003</td><td>0.0003</td></tr><tr><td style=\"text-align: left\">Adjusted R<sup>2</sup></td><td>0.0004</td><td>0.0038</td><td>0.0008</td><td>0.0000</td><td>0.0003</td><td>0.0003</td></tr><tr><td style=\"text-align: left\">Residual Std. Error</td><td>0.0468</td><td>0.0487</td><td>0.0393</td><td>0.0399</td><td>0.0146</td><td>0.0132</td></tr><tr><td style=\"text-align: left\">F Statistic</td><td>5.0490<sup>**</sup></td><td>40.7155<sup>***</sup></td><td>11.1217<sup>***</sup></td><td>1.6236<sup></sup></td><td>287.7416<sup>***</sup></td><td>353.0513<sup>***</sup></td></tr><tr><td colspan=\"7\" style=\"border-bottom: 1px solid black\"></td></tr><tr><td style=\"text-align: left\">Note:</td>\n",
       " <td colspan=\"6\" style=\"text-align: right\">\n",
       "  <sup>*</sup>p&lt;0.1;\n",
       "  <sup>**</sup>p&lt;0.05;\n",
       "  <sup>***</sup>p&lt;0.01\n",
       " </td></tr></table>"
      ],
      "text/plain": [
       "<IPython.core.display.HTML object>"
      ]
     },
     "metadata": {},
     "output_type": "display_data"
    }
   ],
   "source": [
    "stargazer = MyStargazer([model['Neg. sentiment, neg. z-score'], \n",
    "                         model['Neg. sentiment, pos. z-score'],\n",
    "                         model['Pos. sentiment, neg. z-score'],\n",
    "                         model['Pos. sentiment, pos. z-score'],\n",
    "                         model2['Neg. z-score'], \n",
    "                         model2['Pos. z-score']])\n",
    "\n",
    "stargazer.significant_digits(4)\n",
    "stargazer.custom_columns(['Sentiment N, z-score N', 'Sentiment N, z-score P', 'Sentiment P, z-score N', 'Sentiment P, z-score P', 'Neg. z-score', 'Pos. z-score'], [1, 1, 1, 1, 1, 1])\n",
    "stargazer.show_model_numbers(True)\n",
    "stargazer.covariate_order(variables)\n",
    "stargazer.show_degrees_of_freedom(False)\n",
    "display(HTML(stargazer.render_html()))"
   ]
  },
  {
   "cell_type": "code",
   "execution_count": 771,
   "id": "9ff35d21-c5cb-45ed-804f-a7b5d232562d",
   "metadata": {},
   "outputs": [
    {
     "name": "stdout",
     "output_type": "stream",
     "text": [
      "\\begin{table}[!htbp] \\centering\n",
      "\\begin{tabular}{@{\\extracolsep{5pt}}lcccccc}\n",
      "\\\\[-1.8ex]\\hline\n",
      "\\hline \\\\[-1.8ex]\n",
      "& \\multicolumn{6}{c}{\\textit{Dependent variable:}} \\\n",
      "\\cr \\cline{6-7}\n",
      "\\\\[-1.8ex] & \\multicolumn{1}{c}{Sentiment N, z-score N} & \\multicolumn{1}{c}{Sentiment N, z-score P} & \\multicolumn{1}{c}{Sentiment P, z-score N} & \\multicolumn{1}{c}{Sentiment P, z-score P} & \\multicolumn{1}{c}{Neg. z-score} & \\multicolumn{1}{c}{Pos. z-score}  \\\\\n",
      "\\\\[-1.8ex] & (1) & (2) & (3) & (4) & (5) & (6) \\\\\n",
      "\\hline \\\\[-1.8ex]\n",
      " intercept & -0.0157$^{***}$ & -0.0160$^{***}$ & 0.0138$^{***}$ & 0.0130$^{***}$ & 0.0001$^{***}$ & -0.0002$^{***}$ \\\\\n",
      "  & (-25.4837) & (-25.1518) & (26.8787) & (28.3014) & (5.6046) & (-12.8342) \\\\\n",
      " z_score & -0.0010$^{**}$ & 0.0029$^{***}$ & 0.0015$^{***}$ & -0.0004$^{}$ & -0.0004$^{***}$ & 0.0004$^{***}$ \\\\\n",
      "  & (-2.2470) & (6.3809) & (3.3349) & (-1.2742) & (-16.9629) & (18.7897) \\\\\n",
      "\\hline \\\\[-1.8ex]\n",
      " Observations & 10,869 & 10,336 & 12,382 & 13,740 & 1,005,355 & 1,012,075 \\\\\n",
      " $R^2$ & 0.0005 & 0.0039 & 0.0009 & 0.0001 & 0.0003 & 0.0003 \\\\\n",
      " Adjusted $R^2$ & 0.0004 & 0.0038 & 0.0008 & 0.0000 & 0.0003 & 0.0003 \\\\\n",
      " Residual Std. Error & 0.0468 & 0.0487 & 0.0393 & 0.0399 & 0.0146 & 0.0132  \\\\\n",
      " F Statistic & 5.0490$^{**}$  & 40.7155$^{***}$  & 11.1217$^{***}$  & 1.6236$^{}$  & 287.7416$^{***}$  & 353.0513$^{***}$  \\\\\n",
      "\\hline\n",
      "\\hline \\\\[-1.8ex]\n",
      "\\textit{Note:} & \\multicolumn{6}{r}{$^{*}$p$<$0.1; $^{**}$p$<$0.05; $^{***}$p$<$0.01} \\\\\n",
      "\\end{tabular}\n",
      "\\end{table}\n"
     ]
    }
   ],
   "source": [
    "print(stargazer.render_latex())"
   ]
  },
  {
   "cell_type": "code",
   "execution_count": null,
   "id": "be2f87d9-ef6b-4a53-b836-85d605fb2b10",
   "metadata": {},
   "outputs": [],
   "source": []
  },
  {
   "cell_type": "markdown",
   "id": "9b344fcf-fca5-4bfe-9e9d-9399b30371de",
   "metadata": {},
   "source": [
    "## \n",
    "### Predictive Regressions"
   ]
  },
  {
   "cell_type": "code",
   "execution_count": 187,
   "id": "6284042a-ef6e-4a71-800e-04e5182f280f",
   "metadata": {},
   "outputs": [],
   "source": [
    "# In-Sample\n",
    "def make_prediction(x, barrier=0.95):\n",
    "    X = np.c_[1, x.z_tIc*x.prediction_value, (x.z_tIc*x.prediction_value)**2]\n",
    "    if x.prediction_value < -barrier:\n",
    "        if x.z_tIc < 0:\n",
    "            y_pred = model['Neg. sentiment, neg. z-score'].predict(X)[0]\n",
    "        elif x.z_tIc > 0:\n",
    "            y_pred = model['Neg. sentiment, pos. z-score'].predict(X)[0]\n",
    "        else:\n",
    "            y_pred = np.nan\n",
    "            \n",
    "    elif x.prediction_value > barrier:\n",
    "        if x.z_tIc < 0:\n",
    "            y_pred = model['Pos. sentiment, neg. z-score'].predict(X)[0]\n",
    "        elif x.z_tIc > 0:\n",
    "            y_pred = model['Pos. sentiment, pos. z-score'].predict(X)[0]\n",
    "        else:\n",
    "            y_pred = np.nan     \n",
    "    else:\n",
    "        y_pred = np.nan  \n",
    "         \n",
    "    return y_pred\n",
    "    \n",
    "\n",
    "df = df_oc.loc[:, ['prediction_value', 'z_tIc', 'tc']].copy()\n",
    "\n",
    "df['y_pred'] = df.apply(make_prediction, axis=1)"
   ]
  },
  {
   "cell_type": "code",
   "execution_count": 203,
   "id": "fc3bb55d-2a00-41e4-978a-c01fbed92bf5",
   "metadata": {},
   "outputs": [
    {
     "name": "stdout",
     "output_type": "stream",
     "text": [
      "Precision (neg): 0.5121\n",
      "Precision (pos): 0.5037\n"
     ]
    }
   ],
   "source": [
    "true_neg = df.loc[df.y_pred < 0, 'tc'] < 0\n",
    "true_pos = df.loc[df.y_pred > 0, 'tc'] > 0\n",
    "\n",
    "print(f\"Precision (neg): {true_neg.sum()/true_neg.shape[0]:.4f}\")\n",
    "print(f\"Precision (pos): {true_pos.sum()/true_pos.shape[0]:.4f}\")"
   ]
  },
  {
   "cell_type": "code",
   "execution_count": 202,
   "id": "42f58bf2-cbe1-4feb-b429-42f37bc3b558",
   "metadata": {},
   "outputs": [
    {
     "name": "stdout",
     "output_type": "stream",
     "text": [
      "mean neg.: -0.0619%\n",
      "mean pos.: 0.0158%\n"
     ]
    }
   ],
   "source": [
    "print(f\"mean neg.: {df.loc[df.prediction_value < 0, 'tc'].mean()*100:.4f}%\")\n",
    "print(f\"mean pos.: {df.loc[df.prediction_value > 0, 'tc'].mean()*100:.4f}%\")"
   ]
  },
  {
   "cell_type": "code",
   "execution_count": 199,
   "id": "780c43c0-7840-404e-905f-00ab517f953b",
   "metadata": {},
   "outputs": [
    {
     "name": "stdout",
     "output_type": "stream",
     "text": [
      "mean neg.: -0.0929%\n",
      "mean pos.: 0.1297%\n"
     ]
    }
   ],
   "source": [
    "print(f\"mean neg.: {df.loc[df.y_pred < 0, 'tc'].mean()*100:.4f}%\")\n",
    "print(f\"mean pos.: {df.loc[df.y_pred > 0, 'tc'].mean()*100:.4f}%\")"
   ]
  },
  {
   "cell_type": "code",
   "execution_count": null,
   "id": "2a5f9baa-a049-4955-88c7-d858f220e5d6",
   "metadata": {},
   "outputs": [],
   "source": []
  },
  {
   "cell_type": "markdown",
   "id": "67ca74a0-9335-47e2-8340-b335919f7596",
   "metadata": {},
   "source": [
    "# \n",
    "### Descriptive Statistics\n",
    "\n",
    "1. Return Data"
   ]
  },
  {
   "cell_type": "code",
   "execution_count": 797,
   "id": "9835c281-d83c-4340-816b-4e898271ebbd",
   "metadata": {},
   "outputs": [
    {
     "data": {
      "application/vnd.jupyter.widget-view+json": {
       "model_id": "cf4dfaa87dfe4fd2b2348cb8e64305bf",
       "version_major": 2,
       "version_minor": 0
      },
      "text/plain": [
       "  0%|          | 0/9474 [00:00<?, ?it/s]"
      ]
     },
     "metadata": {},
     "output_type": "display_data"
    }
   ],
   "source": [
    "#interval   = 18\n",
    "start_date = datetime(2002,1,1)\n",
    "end_date   = datetime(2021,1,1)\n",
    "\n",
    "Ticker_inSP = pd.read_csv(data_path+'Ticker_inSP_2020.csv', index_col=0)\n",
    "Ticker_inSP.index = pd.to_datetime(Ticker_inSP.index)\n",
    "Ticker_inSP_adj = pd.merge_asof(left=return_data.loc[:, []], right=Ticker_inSP, left_index=True, right_index=True, direction='backward')\n",
    "\n",
    "\n",
    "returns_mo_to_mc = pd.Series(dtype='float32')\n",
    "returns_mc_to_mo = pd.Series(dtype='float32')\n",
    "\n",
    "for timestamp in tqdm(return_data.loc[start_date:end_date].index): \n",
    "    temp = return_data.loc[timestamp, set(return_data.columns).intersection(set(Ticker_inSP_adj.loc[timestamp].dropna()))]\n",
    "    \n",
    "    if return_data.loc[timestamp, 'interval'] == 'mo_to_mc':\n",
    "        returns_mo_to_mc = pd.concat([returns_mo_to_mc, temp])   \n",
    "    elif return_data.loc[timestamp, 'interval'] == 'mc_to_mo':\n",
    "        returns_mc_to_mo = pd.concat([returns_mc_to_mo, temp])\n",
    "        \n",
    "        \n",
    "returns_mo_to_mc.name = 'DAY'\n",
    "returns_mc_to_mo.name = 'NIGHT'\n",
    "plot_df = pd.concat([returns_mo_to_mc, returns_mc_to_mo], axis=1, join='outer').astype('float32')"
   ]
  },
  {
   "cell_type": "markdown",
   "id": "c4a339d9-fef5-4182-96ac-a3213dde9a00",
   "metadata": {},
   "source": [
    "Kernel Density estimation of return distributions\n",
    "- https://jakevdp.github.io/PythonDataScienceHandbook/05.13-kernel-density-estimation.html"
   ]
  },
  {
   "cell_type": "code",
   "execution_count": 798,
   "id": "830aaba7-a302-4b86-adb1-d0a3be66c7a7",
   "metadata": {},
   "outputs": [
    {
     "name": "stdout",
     "output_type": "stream",
     "text": [
      "CPU times: total: 4.41 s\n",
      "Wall time: 36 s\n"
     ]
    }
   ],
   "source": [
    "%%time\n",
    "x = np.linspace(-0.15, 0.15, 5000)\n",
    "densities = {}\n",
    "\n",
    "def parrallel_score_samples(kde, samples, thread_count=int(0.875 * multiprocessing.cpu_count())):\n",
    "    with multiprocessing.Pool(thread_count) as p:\n",
    "        return np.concatenate(p.map(kde.score_samples, np.array_split(samples, thread_count)))\n",
    "    \n",
    "for col in plot_df.columns:\n",
    "    X = plot_df[col].dropna().values.reshape(-1, 1)\n",
    "    kde = KernelDensity(kernel='gaussian', bandwidth=0.001, atol=0.0005, rtol=0.01).fit(X)\n",
    "    #logprob = kde.score_samples(x[:, None])\n",
    "    logprob = parrallel_score_samples(kde, x[:, None])\n",
    "    densities[col] = np.exp(logprob)"
   ]
  },
  {
   "cell_type": "code",
   "execution_count": 807,
   "id": "85884735-92c9-43cf-9cf1-dfa3a2164bee",
   "metadata": {},
   "outputs": [
    {
     "data": {
      "image/png": "[encoded data removed]",
      "text/plain": [
       "<Figure size 576x432 with 1 Axes>"
      ]
     },
     "metadata": {
      "needs_background": "light"
     },
     "output_type": "display_data"
    }
   ],
   "source": [
    "fig, ax = plt.subplots(figsize=(8,6))\n",
    "col1, col2 = 'DAY', 'NIGHT'\n",
    "ax = plt.plot(x, densities[col1], linewidth=2, label=col1)\n",
    "ax = plt.plot(x, densities[col2], linewidth=2, label=col2)\n",
    "\n",
    "plt.xlim(-0.075, 0.075)  \n",
    "#plt.ylabel('Density', labelpad=15)\n",
    "plt.legend()\n",
    "plt.savefig(save_path+'return_density_day_vs_night_'+datetime.now().strftime(\"%Hh%Mm%Ss\")+'.pdf', bbox_inches='tight')\n",
    "plt.show()"
   ]
  },
  {
   "cell_type": "code",
   "execution_count": null,
   "id": "a8c465b2-741e-485e-9ef5-e4271f28d395",
   "metadata": {},
   "outputs": [],
   "source": [
    "# Selecting the bandwidth via cross-validation (very slow)\n",
    "from sklearn.model_selection import GridSearchCV\n",
    "\n",
    "X = plot_df['DAY'].dropna().values[:, None]\n",
    "\n",
    "#bandwidths = 10 ** np.linspace(-3, 0, 10)\n",
    "bandwidths = np.array([0.001, 0.002, 0.003])\n",
    "grid = GridSearchCV(KernelDensity(kernel='gaussian', atol=0.1), {'bandwidth': bandwidths})\n",
    "\n",
    "grid.fit(X)\n",
    "grid.best_params_"
   ]
  },
  {
   "cell_type": "code",
   "execution_count": null,
   "id": "3121f1bc-bb16-42a7-a326-719cc5fc4d44",
   "metadata": {},
   "outputs": [],
   "source": []
  },
  {
   "cell_type": "code",
   "execution_count": null,
   "id": "408f6d6f-b0b1-43bc-b48a-9155aeb56b38",
   "metadata": {},
   "outputs": [],
   "source": []
  },
  {
   "cell_type": "markdown",
   "id": "3b5a4328-1375-4169-a6ec-3cae7256e032",
   "metadata": {},
   "source": [
    "## \n",
    "Autocorrelation plot with market opening and market closing returns"
   ]
  },
  {
   "cell_type": "code",
   "execution_count": 49,
   "id": "9f73d984-0a20-4c12-a1be-82f0a40a4197",
   "metadata": {},
   "outputs": [
    {
     "data": {
      "image/png": "[encoded data removed]",
      "text/plain": [
       "<Figure size 864x432 with 1 Axes>"
      ]
     },
     "metadata": {
      "needs_background": "light"
     },
     "output_type": "display_data"
    }
   ],
   "source": [
    "from statsmodels.graphics.tsaplots import plot_acf\n",
    "\n",
    "fig, ax = plt.subplots(figsize=(12,6))\n",
    "#plot_acf(return_data.F.dropna().values, lags=10, ax=ax)\n",
    "plot_acf(return_data.loc[return_data.interval=='mc_to_mo', 'MLM':].mean(axis=1).dropna().values, lags=10, ax=ax)\n",
    "plt.show()"
   ]
  },
  {
   "cell_type": "code",
   "execution_count": 50,
   "id": "7b7b238f-9922-4619-8850-4e55ad42213b",
   "metadata": {},
   "outputs": [
    {
     "data": {
      "image/png": "[encoded data removed]",
      "text/plain": [
       "<Figure size 864x432 with 1 Axes>"
      ]
     },
     "metadata": {
      "needs_background": "light"
     },
     "output_type": "display_data"
    }
   ],
   "source": [
    "fig, ax = plt.subplots(figsize=(12,6))\n",
    "plot_acf(return_data.loc[return_data.interval=='mo_to_mc', 'MLM':].mean(axis=1).dropna().values, lags=10, ax=ax)\n",
    "plt.show()"
   ]
  },
  {
   "cell_type": "code",
   "execution_count": 51,
   "id": "c645cf21-98bd-4143-9be9-b11db009c703",
   "metadata": {},
   "outputs": [
    {
     "data": {
      "image/png": "[encoded data removed]",
      "text/plain": [
       "<Figure size 864x432 with 1 Axes>"
      ]
     },
     "metadata": {
      "needs_background": "light"
     },
     "output_type": "display_data"
    }
   ],
   "source": [
    "fig, ax = plt.subplots(figsize=(12,6))\n",
    "plot_acf(return_data.loc[:, 'MLM':].mean(axis=1).dropna().values, lags=10, ax=ax)\n",
    "plt.show()"
   ]
  },
  {
   "cell_type": "markdown",
   "id": "869bf05f-542e-4606-ac77-c71148c3994c",
   "metadata": {},
   "source": [
    "2. News Data"
   ]
  },
  {
   "cell_type": "code",
   "execution_count": 7,
   "id": "f94e0be9-4703-464c-8acc-452e30fbac7f",
   "metadata": {},
   "outputs": [],
   "source": [
    "# Distinguish between trading and non-trading hours\n",
    "\n",
    "open_time  = time(9,30)\n",
    "close_time = time(16,0)\n",
    "\n",
    "news_event_df['trading_hours'] = False\n",
    "news_event_df.loc[(open_time < news_event_df.index.get_level_values(level=0).time) & \n",
    "                  (close_time > news_event_df.index.get_level_values(level=0).time), 'trading_hours'] = True"
   ]
  },
  {
   "cell_type": "code",
   "execution_count": 18,
   "id": "ef216cfc-2f8d-4afd-a293-6abca515e73f",
   "metadata": {},
   "outputs": [
    {
     "data": {
      "image/png": "[encoded data removed]",
      "text/plain": [
       "<Figure size 576x288 with 1 Axes>"
      ]
     },
     "metadata": {
      "needs_background": "light"
     },
     "output_type": "display_data"
    }
   ],
   "source": [
    "plot_df = pd.DataFrame()\n",
    "#plot_df['DAY']   = news_event_df.loc[news_event_df.trading_hours == True, 'topic_1':'topic_4'].sum()\n",
    "#plot_df['NIGHT'] = news_event_df.loc[news_event_df.trading_hours == False, 'topic_1':'topic_4'].sum()\n",
    "\n",
    "plot_df['DAY']   = (news_event_df.loc[news_event_df.trading_hours == True, 'topic_1':'topic_4'] > 0.3).sum(axis=0)\n",
    "plot_df['NIGHT'] = (news_event_df.loc[news_event_df.trading_hours == False, 'topic_1':'topic_4'] > 0.3).sum(axis=0)\n",
    "\n",
    "fig, ax = plt.subplots(figsize=(8,4))\n",
    "plot_df.plot.barh(ax=ax)\n",
    "ax.invert_yaxis()\n",
    "#plt.xlim(0, 25000)\n",
    "plt.title(\"Topic Day vs. Night\")\n",
    "plt.show()"
   ]
  },
  {
   "cell_type": "code",
   "execution_count": 237,
   "id": "f18adec7-f187-4899-8ddf-8cc74d0d0885",
   "metadata": {},
   "outputs": [
    {
     "data": {
      "text/html": [
       "<div>\n",
       "<style scoped>\n",
       "    .dataframe tbody tr th:only-of-type {\n",
       "        vertical-align: middle;\n",
       "    }\n",
       "\n",
       "    .dataframe tbody tr th {\n",
       "        vertical-align: top;\n",
       "    }\n",
       "\n",
       "    .dataframe thead th {\n",
       "        text-align: right;\n",
       "    }\n",
       "</style>\n",
       "<table border=\"1\" class=\"dataframe\">\n",
       "  <thead>\n",
       "    <tr style=\"text-align: right;\">\n",
       "      <th></th>\n",
       "      <th>topic_1</th>\n",
       "      <th>topic_2</th>\n",
       "      <th>Other</th>\n",
       "    </tr>\n",
       "  </thead>\n",
       "  <tbody>\n",
       "  </tbody>\n",
       "</table>\n",
       "</div>"
      ],
      "text/plain": [
       "Empty DataFrame\n",
       "Columns: [topic_1, topic_2, Other]\n",
       "Index: []"
      ]
     },
     "execution_count": 237,
     "metadata": {},
     "output_type": "execute_result"
    }
   ],
   "source": [
    "plot_df = pd.DataFrame()\n",
    "plot_df['topic_1'] = [news_event_df.loc[(news_event_df.trading_hours == False) & (news_event_df.topic_1 > 0)].shape[0]]\n",
    "plot_df['topic_2'] = [news_event_df.loc[(news_event_df.trading_hours == False) & (news_event_df.topic_2 > 0)].shape[0]]\n",
    "plot_df['Other']   = [news_event_df.loc[(news_event_df.trading_hours == False) & (news_event_df.topic_1 == 0) & (news_event_df.topic_2 == 0)].shape[0]]\n",
    "\n",
    "\n",
    "\n",
    "fig, ax = plt.subplots(figsize=(8,4))\n",
    "plot_df.T.plot.barh(ax=ax, legend=False)\n",
    "ax.invert_yaxis()\n",
    "#plt.xlim(0, 25000)\n",
    "ax.set_xlabel('Count', labelpad=15)\n",
    "plt.title(\"Topic-count of Overnight News\")\n",
    "plt.show()"
   ]
  },
  {
   "cell_type": "code",
   "execution_count": 250,
   "id": "d96eb624-2f34-465f-9ddd-f3b4dffd47c6",
   "metadata": {},
   "outputs": [
    {
     "data": {
      "image/png": "[encoded data removed]",
      "text/plain": [
       "<Figure size 576x288 with 1 Axes>"
      ]
     },
     "metadata": {
      "needs_background": "light"
     },
     "output_type": "display_data"
    }
   ],
   "source": [
    "plot_df = pd.DataFrame()\n",
    "plot_df['topic_1'] = [news_event_df.loc[(news_event_df.trading_hours == False) & (news_event_df.topic_1 > 0)].shape[0]]\n",
    "plot_df['topic_2'] = [news_event_df.loc[(news_event_df.trading_hours == False) & (news_event_df.topic_2 > 0)].shape[0]]\n",
    "plot_df['Other']   = [news_event_df.loc[(news_event_df.trading_hours == False) & (news_event_df.topic_1 == 0) & (news_event_df.topic_2 == 0)].shape[0]]\n",
    "\n",
    "fig, ax = plt.subplots(figsize=(8,4))\n",
    "plot_df.T.plot.barh(ax=ax, legend=False)\n",
    "ax.invert_yaxis()\n",
    "#plt.xlim(0, 25000)\n",
    "ax.set_xlabel('Count', labelpad=15)\n",
    "plt.title(\"Topic-count of Overnight News\")\n",
    "plt.show()"
   ]
  },
  {
   "cell_type": "code",
   "execution_count": 252,
   "id": "726c2974-270e-46e2-9ce7-76af61699895",
   "metadata": {},
   "outputs": [],
   "source": [
    "z_scores = pd.read_csv(data_path+f'z_values_mo_to_mc_127d_rw{idiosync}.csv', encoding='utf-8')      \n",
    "z_scores.Date = pd.to_datetime(z_scores.Date)                                   \n",
    "z_scores = z_scores.set_index('Date')\n",
    "z_scores_mc_tI = z_scores.shift(1)"
   ]
  },
  {
   "cell_type": "code",
   "execution_count": 299,
   "id": "0cc38fa0-56c5-4dac-98fa-7ee2a433cc57",
   "metadata": {},
   "outputs": [],
   "source": [
    "news_event_df = load_data(extended_model_path+'train_valid_data_pred_and_abn_returns_mo_to_mc_17_5h_z_val_idiosync_fresh_'+str(2002)+'-'+str(2021)+'.csv')\n",
    "news_event_df = news_event_df.reset_index()\n",
    "news_event_df.Date = pd.to_datetime(news_event_df.Date)\n",
    "news_event_df.Timestamp_ET = pd.DatetimeIndex(news_event_df.Timestamp_ET).tz_localize(None)"
   ]
  },
  {
   "cell_type": "code",
   "execution_count": 300,
   "id": "0aeaadb0-a630-4379-bb6a-af1327a032d0",
   "metadata": {},
   "outputs": [],
   "source": [
    "# Add z-value of market close on day t-1\n",
    "news_event_df.insert(6, 'z_value_mc_tI', np.nan)\n",
    "news_event_df['z_value_mc_tI'] = news_event_df.apply(get_z_val, axis=1)"
   ]
  },
  {
   "cell_type": "code",
   "execution_count": 301,
   "id": "0beff31e-2b92-4bac-868a-3b7aed59900d",
   "metadata": {},
   "outputs": [
    {
     "data": {
      "text/html": [
       "<div>\n",
       "<style scoped>\n",
       "    .dataframe tbody tr th:only-of-type {\n",
       "        vertical-align: middle;\n",
       "    }\n",
       "\n",
       "    .dataframe tbody tr th {\n",
       "        vertical-align: top;\n",
       "    }\n",
       "\n",
       "    .dataframe thead th {\n",
       "        text-align: right;\n",
       "    }\n",
       "</style>\n",
       "<table border=\"1\" class=\"dataframe\">\n",
       "  <thead>\n",
       "    <tr style=\"text-align: right;\">\n",
       "      <th></th>\n",
       "      <th>Ticker</th>\n",
       "      <th>Date</th>\n",
       "      <th>Timestamp_ET</th>\n",
       "      <th>News</th>\n",
       "      <th>Sentiment</th>\n",
       "      <th>freshness</th>\n",
       "      <th>z_value_mc_tI</th>\n",
       "      <th>topic_1</th>\n",
       "      <th>topic_2</th>\n",
       "      <th>topic_3</th>\n",
       "      <th>topic_4</th>\n",
       "      <th>neutral</th>\n",
       "      <th>negative</th>\n",
       "      <th>positive</th>\n",
       "      <th>Prediction</th>\n",
       "      <th>...</th>\n",
       "      <th>return_t_I</th>\n",
       "      <th>return_t</th>\n",
       "      <th>return_t_1</th>\n",
       "      <th>return_t_2</th>\n",
       "      <th>return_t_3</th>\n",
       "      <th>return_t_4</th>\n",
       "      <th>return_t_5</th>\n",
       "      <th>return_t_6</th>\n",
       "      <th>return_t_7</th>\n",
       "      <th>return_t_8</th>\n",
       "      <th>z_value_t_III</th>\n",
       "      <th>z_value_t_II</th>\n",
       "      <th>z_value_t_I</th>\n",
       "      <th>z_value_t</th>\n",
       "      <th>z_value_t_1</th>\n",
       "    </tr>\n",
       "  </thead>\n",
       "  <tbody>\n",
       "    <tr>\n",
       "      <th>0</th>\n",
       "      <td>DIS</td>\n",
       "      <td>2002-01-07</td>\n",
       "      <td>2002-01-07 16:28:06.983</td>\n",
       "      <td>disney shareholders renew suit over ovitz payo...</td>\n",
       "      <td>0.0</td>\n",
       "      <td>fresh</td>\n",
       "      <td>NaN</td>\n",
       "      <td>0.0</td>\n",
       "      <td>0.000000</td>\n",
       "      <td>0.0</td>\n",
       "      <td>0.000000</td>\n",
       "      <td>0.954279</td>\n",
       "      <td>0.018684</td>\n",
       "      <td>0.027037</td>\n",
       "      <td>0</td>\n",
       "      <td>...</td>\n",
       "      <td>-0.005437</td>\n",
       "      <td>-0.033163</td>\n",
       "      <td>-0.064432</td>\n",
       "      <td>0.035197</td>\n",
       "      <td>0.012096</td>\n",
       "      <td>-0.000138</td>\n",
       "      <td>0.045765</td>\n",
       "      <td>-0.025760</td>\n",
       "      <td>0.037316</td>\n",
       "      <td>NaN</td>\n",
       "      <td>NaN</td>\n",
       "      <td>NaN</td>\n",
       "      <td>NaN</td>\n",
       "      <td>NaN</td>\n",
       "      <td>NaN</td>\n",
       "    </tr>\n",
       "    <tr>\n",
       "      <th>1</th>\n",
       "      <td>XRX</td>\n",
       "      <td>2002-01-07</td>\n",
       "      <td>2002-01-07 16:40:01.416</td>\n",
       "      <td>text fitch affirms xerox ratings outlook is st...</td>\n",
       "      <td>0.0</td>\n",
       "      <td>fresh</td>\n",
       "      <td>NaN</td>\n",
       "      <td>0.0</td>\n",
       "      <td>0.193966</td>\n",
       "      <td>0.0</td>\n",
       "      <td>0.395062</td>\n",
       "      <td>0.901240</td>\n",
       "      <td>0.039803</td>\n",
       "      <td>0.058957</td>\n",
       "      <td>0</td>\n",
       "      <td>...</td>\n",
       "      <td>-0.000622</td>\n",
       "      <td>0.033708</td>\n",
       "      <td>-0.026919</td>\n",
       "      <td>0.041696</td>\n",
       "      <td>-0.005990</td>\n",
       "      <td>0.009757</td>\n",
       "      <td>0.081039</td>\n",
       "      <td>0.017904</td>\n",
       "      <td>0.013545</td>\n",
       "      <td>-0.049118</td>\n",
       "      <td>NaN</td>\n",
       "      <td>NaN</td>\n",
       "      <td>NaN</td>\n",
       "      <td>NaN</td>\n",
       "      <td>NaN</td>\n",
       "    </tr>\n",
       "  </tbody>\n",
       "</table>\n",
       "<p>2 rows × 35 columns</p>\n",
       "</div>"
      ],
      "text/plain": [
       "  Ticker       Date            Timestamp_ET  \\\n",
       "0    DIS 2002-01-07 2002-01-07 16:28:06.983   \n",
       "1    XRX 2002-01-07 2002-01-07 16:40:01.416   \n",
       "\n",
       "                                                News  Sentiment freshness  \\\n",
       "0  disney shareholders renew suit over ovitz payo...        0.0     fresh   \n",
       "1  text fitch affirms xerox ratings outlook is st...        0.0     fresh   \n",
       "\n",
       "   z_value_mc_tI  topic_1   topic_2  topic_3   topic_4   neutral  negative  \\\n",
       "0            NaN      0.0  0.000000      0.0  0.000000  0.954279  0.018684   \n",
       "1            NaN      0.0  0.193966      0.0  0.395062  0.901240  0.039803   \n",
       "\n",
       "   positive  Prediction  ...  return_t_I  return_t  return_t_1  return_t_2  \\\n",
       "0  0.027037           0  ...   -0.005437 -0.033163   -0.064432    0.035197   \n",
       "1  0.058957           0  ...   -0.000622  0.033708   -0.026919    0.041696   \n",
       "\n",
       "   return_t_3  return_t_4  return_t_5  return_t_6  return_t_7  return_t_8  \\\n",
       "0    0.012096   -0.000138    0.045765   -0.025760    0.037316         NaN   \n",
       "1   -0.005990    0.009757    0.081039    0.017904    0.013545   -0.049118   \n",
       "\n",
       "   z_value_t_III  z_value_t_II  z_value_t_I  z_value_t  z_value_t_1  \n",
       "0            NaN           NaN          NaN        NaN          NaN  \n",
       "1            NaN           NaN          NaN        NaN          NaN  \n",
       "\n",
       "[2 rows x 35 columns]"
      ]
     },
     "execution_count": 301,
     "metadata": {},
     "output_type": "execute_result"
    }
   ],
   "source": [
    "news_event_df.head(2)"
   ]
  },
  {
   "cell_type": "code",
   "execution_count": 302,
   "id": "3e5f2912-a3a0-4d23-8d1c-7ea04fa9a840",
   "metadata": {},
   "outputs": [],
   "source": [
    "var = 'return_t_1' #'z_value_mc_tI'\n",
    "\n",
    "values_topic1 = news_event_df.loc[(news_event_df.topic_1 > 0), var].reset_index(drop=True)\n",
    "values_topic2 = news_event_df.loc[(news_event_df.topic_2 > 0), var].reset_index(drop=True)\n",
    "values_other  = news_event_df.loc[(news_event_df.topic_1 == 0) & (news_event_df.topic_2 == 0), var].reset_index(drop=True)"
   ]
  },
  {
   "cell_type": "code",
   "execution_count": 307,
   "id": "880608d0-c9fb-429b-a6ae-97062e71df92",
   "metadata": {},
   "outputs": [
    {
     "data": {
      "text/html": [
       "<div>\n",
       "<style scoped>\n",
       "    .dataframe tbody tr th:only-of-type {\n",
       "        vertical-align: middle;\n",
       "    }\n",
       "\n",
       "    .dataframe tbody tr th {\n",
       "        vertical-align: top;\n",
       "    }\n",
       "\n",
       "    .dataframe thead th {\n",
       "        text-align: right;\n",
       "    }\n",
       "</style>\n",
       "<table border=\"1\" class=\"dataframe\">\n",
       "  <thead>\n",
       "    <tr style=\"text-align: right;\">\n",
       "      <th></th>\n",
       "      <th>topic1</th>\n",
       "      <th>topic2</th>\n",
       "      <th>other</th>\n",
       "    </tr>\n",
       "  </thead>\n",
       "  <tbody>\n",
       "    <tr>\n",
       "      <th>0</th>\n",
       "      <td>-0.026919</td>\n",
       "      <td>-0.026919</td>\n",
       "      <td>-0.064432</td>\n",
       "    </tr>\n",
       "    <tr>\n",
       "      <th>1</th>\n",
       "      <td>-0.066170</td>\n",
       "      <td>-0.026919</td>\n",
       "      <td>-0.147874</td>\n",
       "    </tr>\n",
       "    <tr>\n",
       "      <th>2</th>\n",
       "      <td>-0.026895</td>\n",
       "      <td>-0.066170</td>\n",
       "      <td>-0.082123</td>\n",
       "    </tr>\n",
       "    <tr>\n",
       "      <th>3</th>\n",
       "      <td>-0.112421</td>\n",
       "      <td>-0.048297</td>\n",
       "      <td>-0.112421</td>\n",
       "    </tr>\n",
       "    <tr>\n",
       "      <th>4</th>\n",
       "      <td>0.004296</td>\n",
       "      <td>-0.048297</td>\n",
       "      <td>-0.040846</td>\n",
       "    </tr>\n",
       "  </tbody>\n",
       "</table>\n",
       "</div>"
      ],
      "text/plain": [
       "     topic1    topic2     other\n",
       "0 -0.026919 -0.026919 -0.064432\n",
       "1 -0.066170 -0.026919 -0.147874\n",
       "2 -0.026895 -0.066170 -0.082123\n",
       "3 -0.112421 -0.048297 -0.112421\n",
       "4  0.004296 -0.048297 -0.040846"
      ]
     },
     "execution_count": 307,
     "metadata": {},
     "output_type": "execute_result"
    }
   ],
   "source": [
    "plot_df = pd.concat([values_topic1, values_topic2, values_other], axis=1)\n",
    "plot_df.columns = ['topic1', 'topic2', 'other'] \n",
    "plot_df.head()"
   ]
  },
  {
   "cell_type": "code",
   "execution_count": 310,
   "id": "aa28c0ad-51da-4825-915a-62477e473e47",
   "metadata": {},
   "outputs": [
    {
     "name": "stdout",
     "output_type": "stream",
     "text": [
      "CPU times: total: 172 ms\n",
      "Wall time: 7.76 s\n"
     ]
    }
   ],
   "source": [
    "%%time\n",
    "x = np.linspace(-0.15, 0.15, 5000)\n",
    "densities = {}\n",
    "\n",
    "def parrallel_score_samples(kde, samples, thread_count=int(0.875 * multiprocessing.cpu_count())):\n",
    "    with multiprocessing.Pool(thread_count) as p:\n",
    "        return np.concatenate(p.map(kde.score_samples, np.array_split(samples, thread_count)))\n",
    "    \n",
    "for col in plot_df.columns:\n",
    "    X = plot_df[col].dropna().values.reshape(-1, 1)\n",
    "    kde = KernelDensity(kernel='gaussian', bandwidth=0.01, atol=0.0005, rtol=0.01).fit(X)\n",
    "    #logprob = kde.score_samples(x[:, None])\n",
    "    logprob = parrallel_score_samples(kde, x[:, None])\n",
    "    densities[col] = np.exp(logprob)"
   ]
  },
  {
   "cell_type": "code",
   "execution_count": 311,
   "id": "a4456a64-6e9e-435c-8a53-9555c9b190bd",
   "metadata": {},
   "outputs": [
    {
     "data": {
      "image/png": "[encoded data removed]",
      "text/plain": [
       "<Figure size 864x432 with 1 Axes>"
      ]
     },
     "metadata": {
      "needs_background": "light"
     },
     "output_type": "display_data"
    }
   ],
   "source": [
    "fig, ax = plt.subplots(figsize=(12,6))\n",
    "col1, col2, col3 = 'topic1', 'topic2', 'other'\n",
    "ax = plt.plot(x, densities[col1], linewidth=2, label=col1)\n",
    "ax = plt.plot(x, densities[col2], linewidth=2, label=col2)\n",
    "ax = plt.plot(x, densities[col3], linewidth=2, label=col3)\n",
    "\n",
    "plt.xlim(-0.1, 0.1)  \n",
    "plt.ylabel('Density', labelpad=15)\n",
    "plt.legend()\n",
    "#plt.savefig(save_path+'return_density_day_vs_night_'+datetime.now().strftime(\"%Hh%Mm%Ss\")+'.pdf', bbox_inches='tight')\n",
    "plt.show()"
   ]
  },
  {
   "cell_type": "code",
   "execution_count": null,
   "id": "06944b7c-bd42-4b86-b248-a3cf9588fedb",
   "metadata": {},
   "outputs": [],
   "source": []
  },
  {
   "cell_type": "code",
   "execution_count": null,
   "id": "718169cb-c9a5-4759-ae54-8ebaf44afd08",
   "metadata": {},
   "outputs": [],
   "source": []
  },
  {
   "cell_type": "code",
   "execution_count": 226,
   "id": "6ee35704-71ac-4294-85af-4b1d4a837f35",
   "metadata": {},
   "outputs": [
    {
     "data": {
      "image/png": "[encoded data removed]",
      "text/plain": [
       "<Figure size 576x288 with 1 Axes>"
      ]
     },
     "metadata": {
      "needs_background": "light"
     },
     "output_type": "display_data"
    }
   ],
   "source": [
    "plot_df = pd.DataFrame()\n",
    "plot_df['DAY']   = news_event_df.loc[news_event_df.trading_hours == True, ['positive', 'negative', 'neutral']].mean()\n",
    "plot_df['NIGHT'] = news_event_df.loc[news_event_df.trading_hours == False, ['positive', 'negative', 'neutral']].mean()\n",
    "\n",
    "\n",
    "fig, ax = plt.subplots(figsize=(8,4))\n",
    "plot_df.plot.barh(ax=ax)\n",
    "ax.invert_yaxis()\n",
    "plt.title(\"Sentiment Day vs. Night\")\n",
    "plt.show()"
   ]
  },
  {
   "cell_type": "code",
   "execution_count": null,
   "id": "65ba5b50-97d6-4733-a9fb-ca60e4b32126",
   "metadata": {},
   "outputs": [],
   "source": []
  },
  {
   "cell_type": "code",
   "execution_count": null,
   "id": "ef68034c-264c-4ba4-991f-058a7529d2a7",
   "metadata": {},
   "outputs": [],
   "source": []
  },
  {
   "cell_type": "markdown",
   "id": "c20524a7-e34d-4673-aef1-007a669bbd4b",
   "metadata": {},
   "source": [
    "Inspect News"
   ]
  },
  {
   "cell_type": "code",
   "execution_count": null,
   "id": "b89ed284-bab2-48e8-84c8-428ed9316744",
   "metadata": {},
   "outputs": [],
   "source": [
    "z_scores = pd.read_csv(data_path+f'z_values_mo_to_mc_127d_rw{idiosync}.csv', encoding='utf-8')      \n",
    "z_scores.Date = pd.to_datetime(z_scores.Date)                                   \n",
    "z_scores = z_scores.set_index('Date')\n",
    "z_scores_mc_tI = z_scores.shift(1)"
   ]
  },
  {
   "cell_type": "code",
   "execution_count": 164,
   "id": "a9a1acca-e36a-45ed-89a3-77d286c02285",
   "metadata": {},
   "outputs": [
    {
     "name": "stdout",
     "output_type": "stream",
     "text": [
      "(128464, 34)\n"
     ]
    },
    {
     "data": {
      "text/html": [
       "<div>\n",
       "<style scoped>\n",
       "    .dataframe tbody tr th:only-of-type {\n",
       "        vertical-align: middle;\n",
       "    }\n",
       "\n",
       "    .dataframe tbody tr th {\n",
       "        vertical-align: top;\n",
       "    }\n",
       "\n",
       "    .dataframe thead th {\n",
       "        text-align: right;\n",
       "    }\n",
       "</style>\n",
       "<table border=\"1\" class=\"dataframe\">\n",
       "  <thead>\n",
       "    <tr style=\"text-align: right;\">\n",
       "      <th></th>\n",
       "      <th>Ticker</th>\n",
       "      <th>Date</th>\n",
       "      <th>Timestamp_ET</th>\n",
       "      <th>News</th>\n",
       "      <th>Sentiment</th>\n",
       "      <th>freshness</th>\n",
       "      <th>topic_1</th>\n",
       "      <th>topic_2</th>\n",
       "      <th>topic_3</th>\n",
       "      <th>topic_4</th>\n",
       "      <th>neutral</th>\n",
       "      <th>negative</th>\n",
       "      <th>positive</th>\n",
       "      <th>Prediction</th>\n",
       "      <th>prediction_value</th>\n",
       "      <th>...</th>\n",
       "      <th>return_t_I</th>\n",
       "      <th>return_t</th>\n",
       "      <th>return_t_1</th>\n",
       "      <th>return_t_2</th>\n",
       "      <th>return_t_3</th>\n",
       "      <th>return_t_4</th>\n",
       "      <th>return_t_5</th>\n",
       "      <th>return_t_6</th>\n",
       "      <th>return_t_7</th>\n",
       "      <th>return_t_8</th>\n",
       "      <th>z_value_t_III</th>\n",
       "      <th>z_value_t_II</th>\n",
       "      <th>z_value_t_I</th>\n",
       "      <th>z_value_t</th>\n",
       "      <th>z_value_t_1</th>\n",
       "    </tr>\n",
       "  </thead>\n",
       "  <tbody>\n",
       "    <tr>\n",
       "      <th>0</th>\n",
       "      <td>DIS</td>\n",
       "      <td>2002-01-07</td>\n",
       "      <td>2002-01-07 16:28:06.983</td>\n",
       "      <td>disney shareholders renew suit over ovitz payo...</td>\n",
       "      <td>0.0</td>\n",
       "      <td>fresh</td>\n",
       "      <td>0.0</td>\n",
       "      <td>0.000000</td>\n",
       "      <td>0.0</td>\n",
       "      <td>0.000000</td>\n",
       "      <td>0.954279</td>\n",
       "      <td>0.018684</td>\n",
       "      <td>0.027037</td>\n",
       "      <td>0</td>\n",
       "      <td>0.008352</td>\n",
       "      <td>...</td>\n",
       "      <td>-0.005437</td>\n",
       "      <td>-0.033163</td>\n",
       "      <td>-0.064432</td>\n",
       "      <td>0.035197</td>\n",
       "      <td>0.012096</td>\n",
       "      <td>-0.000138</td>\n",
       "      <td>0.045765</td>\n",
       "      <td>-0.025760</td>\n",
       "      <td>0.037316</td>\n",
       "      <td>NaN</td>\n",
       "      <td>NaN</td>\n",
       "      <td>NaN</td>\n",
       "      <td>NaN</td>\n",
       "      <td>NaN</td>\n",
       "      <td>NaN</td>\n",
       "    </tr>\n",
       "    <tr>\n",
       "      <th>1</th>\n",
       "      <td>XRX</td>\n",
       "      <td>2002-01-07</td>\n",
       "      <td>2002-01-07 16:40:01.416</td>\n",
       "      <td>text fitch affirms xerox ratings outlook is st...</td>\n",
       "      <td>0.0</td>\n",
       "      <td>fresh</td>\n",
       "      <td>0.0</td>\n",
       "      <td>0.193966</td>\n",
       "      <td>0.0</td>\n",
       "      <td>0.395062</td>\n",
       "      <td>0.901240</td>\n",
       "      <td>0.039803</td>\n",
       "      <td>0.058957</td>\n",
       "      <td>0</td>\n",
       "      <td>0.019154</td>\n",
       "      <td>...</td>\n",
       "      <td>-0.000622</td>\n",
       "      <td>0.033708</td>\n",
       "      <td>-0.026919</td>\n",
       "      <td>0.041696</td>\n",
       "      <td>-0.005990</td>\n",
       "      <td>0.009757</td>\n",
       "      <td>0.081039</td>\n",
       "      <td>0.017904</td>\n",
       "      <td>0.013545</td>\n",
       "      <td>-0.049118</td>\n",
       "      <td>NaN</td>\n",
       "      <td>NaN</td>\n",
       "      <td>NaN</td>\n",
       "      <td>NaN</td>\n",
       "      <td>NaN</td>\n",
       "    </tr>\n",
       "  </tbody>\n",
       "</table>\n",
       "<p>2 rows × 34 columns</p>\n",
       "</div>"
      ],
      "text/plain": [
       "  Ticker       Date            Timestamp_ET  \\\n",
       "0    DIS 2002-01-07 2002-01-07 16:28:06.983   \n",
       "1    XRX 2002-01-07 2002-01-07 16:40:01.416   \n",
       "\n",
       "                                                News  Sentiment freshness  \\\n",
       "0  disney shareholders renew suit over ovitz payo...        0.0     fresh   \n",
       "1  text fitch affirms xerox ratings outlook is st...        0.0     fresh   \n",
       "\n",
       "   topic_1   topic_2  topic_3   topic_4   neutral  negative  positive  \\\n",
       "0      0.0  0.000000      0.0  0.000000  0.954279  0.018684  0.027037   \n",
       "1      0.0  0.193966      0.0  0.395062  0.901240  0.039803  0.058957   \n",
       "\n",
       "   Prediction  prediction_value  ...  return_t_I  return_t  return_t_1  \\\n",
       "0           0          0.008352  ...   -0.005437 -0.033163   -0.064432   \n",
       "1           0          0.019154  ...   -0.000622  0.033708   -0.026919   \n",
       "\n",
       "   return_t_2  return_t_3  return_t_4  return_t_5  return_t_6  return_t_7  \\\n",
       "0    0.035197    0.012096   -0.000138    0.045765   -0.025760    0.037316   \n",
       "1    0.041696   -0.005990    0.009757    0.081039    0.017904    0.013545   \n",
       "\n",
       "   return_t_8  z_value_t_III  z_value_t_II  z_value_t_I  z_value_t  \\\n",
       "0         NaN            NaN           NaN          NaN        NaN   \n",
       "1   -0.049118            NaN           NaN          NaN        NaN   \n",
       "\n",
       "   z_value_t_1  \n",
       "0          NaN  \n",
       "1          NaN  \n",
       "\n",
       "[2 rows x 34 columns]"
      ]
     },
     "execution_count": 164,
     "metadata": {},
     "output_type": "execute_result"
    }
   ],
   "source": [
    "news_event_df = load_data(extended_model_path+'train_valid_data_pred_and_abn_returns_mo_to_mc_17_5h_z_val_idiosync_fresh_'+str(2002)+'-'+str(2021)+'.csv')\n",
    "news_event_df = news_event_df.reset_index()\n",
    "news_event_df.Date = pd.to_datetime(news_event_df.Date)\n",
    "news_event_df.Timestamp_ET = pd.DatetimeIndex(news_event_df.Timestamp_ET).tz_localize(None)\n",
    "\n",
    "print(news_event_df.shape)\n",
    "news_event_df.head(2)"
   ]
  },
  {
   "cell_type": "code",
   "execution_count": 165,
   "id": "48ee4b7c-07ce-44ad-861b-fd1ee079376d",
   "metadata": {},
   "outputs": [],
   "source": [
    "# Add z-value of market close on day t-1\n",
    "news_event_df.insert(3, 'z_value_mc_tI', np.nan)\n",
    "news_event_df['z_value_mc_tI'] = news_event_df.apply(get_z_val, axis=1)"
   ]
  },
  {
   "cell_type": "code",
   "execution_count": 166,
   "id": "2ccd6583-feee-4c01-850e-e5a826cf2dc3",
   "metadata": {},
   "outputs": [],
   "source": [
    "sel_cols = ['Ticker', 'Timestamp_ET', 'News', 'freshness', 'topic_1', 'topic_2', 'prediction_value', 'return_t', 'return_t_1', 'return_t_2', 'z_value_mc_tI']\n",
    "\n",
    "data = news_event_df[sel_cols]\n",
    "data = data.set_index('Timestamp_ET')"
   ]
  },
  {
   "cell_type": "code",
   "execution_count": 167,
   "id": "7555eda7-8745-42bb-a95f-cff494a17906",
   "metadata": {},
   "outputs": [
    {
     "data": {
      "text/html": [
       "<div>\n",
       "<style scoped>\n",
       "    .dataframe tbody tr th:only-of-type {\n",
       "        vertical-align: middle;\n",
       "    }\n",
       "\n",
       "    .dataframe tbody tr th {\n",
       "        vertical-align: top;\n",
       "    }\n",
       "\n",
       "    .dataframe thead th {\n",
       "        text-align: right;\n",
       "    }\n",
       "</style>\n",
       "<table border=\"1\" class=\"dataframe\">\n",
       "  <thead>\n",
       "    <tr style=\"text-align: right;\">\n",
       "      <th></th>\n",
       "      <th>Ticker</th>\n",
       "      <th>News</th>\n",
       "      <th>freshness</th>\n",
       "      <th>topic_1</th>\n",
       "      <th>topic_2</th>\n",
       "      <th>prediction_value</th>\n",
       "      <th>return_t</th>\n",
       "      <th>return_t_1</th>\n",
       "      <th>return_t_2</th>\n",
       "      <th>z_value_mc_tI</th>\n",
       "    </tr>\n",
       "    <tr>\n",
       "      <th>Timestamp_ET</th>\n",
       "      <th></th>\n",
       "      <th></th>\n",
       "      <th></th>\n",
       "      <th></th>\n",
       "      <th></th>\n",
       "      <th></th>\n",
       "      <th></th>\n",
       "      <th></th>\n",
       "      <th></th>\n",
       "      <th></th>\n",
       "    </tr>\n",
       "  </thead>\n",
       "  <tbody>\n",
       "    <tr>\n",
       "      <th>2002-01-07 16:28:06.983</th>\n",
       "      <td>DIS</td>\n",
       "      <td>disney shareholders renew suit over ovitz payo...</td>\n",
       "      <td>fresh</td>\n",
       "      <td>0.0</td>\n",
       "      <td>0.000000</td>\n",
       "      <td>0.008352</td>\n",
       "      <td>-0.033163</td>\n",
       "      <td>-0.064432</td>\n",
       "      <td>0.035197</td>\n",
       "      <td>NaN</td>\n",
       "    </tr>\n",
       "    <tr>\n",
       "      <th>2002-01-07 16:40:01.416</th>\n",
       "      <td>XRX</td>\n",
       "      <td>text fitch affirms xerox ratings outlook is st...</td>\n",
       "      <td>fresh</td>\n",
       "      <td>0.0</td>\n",
       "      <td>0.193966</td>\n",
       "      <td>0.019154</td>\n",
       "      <td>0.033708</td>\n",
       "      <td>-0.026919</td>\n",
       "      <td>0.041696</td>\n",
       "      <td>NaN</td>\n",
       "    </tr>\n",
       "  </tbody>\n",
       "</table>\n",
       "</div>"
      ],
      "text/plain": [
       "                        Ticker  \\\n",
       "Timestamp_ET                     \n",
       "2002-01-07 16:28:06.983    DIS   \n",
       "2002-01-07 16:40:01.416    XRX   \n",
       "\n",
       "                                                                      News  \\\n",
       "Timestamp_ET                                                                 \n",
       "2002-01-07 16:28:06.983  disney shareholders renew suit over ovitz payo...   \n",
       "2002-01-07 16:40:01.416  text fitch affirms xerox ratings outlook is st...   \n",
       "\n",
       "                        freshness  topic_1   topic_2  prediction_value  \\\n",
       "Timestamp_ET                                                             \n",
       "2002-01-07 16:28:06.983     fresh      0.0  0.000000          0.008352   \n",
       "2002-01-07 16:40:01.416     fresh      0.0  0.193966          0.019154   \n",
       "\n",
       "                         return_t  return_t_1  return_t_2  z_value_mc_tI  \n",
       "Timestamp_ET                                                              \n",
       "2002-01-07 16:28:06.983 -0.033163   -0.064432    0.035197            NaN  \n",
       "2002-01-07 16:40:01.416  0.033708   -0.026919    0.041696            NaN  "
      ]
     },
     "execution_count": 167,
     "metadata": {},
     "output_type": "execute_result"
    }
   ],
   "source": [
    "data.head(2)"
   ]
  },
  {
   "cell_type": "code",
   "execution_count": 217,
   "id": "9d773fa0-1d4b-41bf-9da2-2069dce0e574",
   "metadata": {},
   "outputs": [],
   "source": [
    "barrier = 0.95\n",
    "z_score = 1.645\n",
    "\n",
    "# Negative news on day t and significantely negative z-value on day t \n",
    "Case_1 = data.loc[(data.Ticker == 'INTC')            &\n",
    "                  (data.prediction_value <= barrier) &\n",
    "                  (data.z_value_mc_tI    <= -z_score), :].reset_index(drop=False)"
   ]
  },
  {
   "cell_type": "code",
   "execution_count": 218,
   "id": "aa09a5df-bf9b-464f-af74-a186e3b8ef9d",
   "metadata": {},
   "outputs": [
    {
     "data": {
      "text/html": [
       "<div>\n",
       "<style scoped>\n",
       "    .dataframe tbody tr th:only-of-type {\n",
       "        vertical-align: middle;\n",
       "    }\n",
       "\n",
       "    .dataframe tbody tr th {\n",
       "        vertical-align: top;\n",
       "    }\n",
       "\n",
       "    .dataframe thead th {\n",
       "        text-align: right;\n",
       "    }\n",
       "</style>\n",
       "<table border=\"1\" class=\"dataframe\">\n",
       "  <thead>\n",
       "    <tr style=\"text-align: right;\">\n",
       "      <th></th>\n",
       "      <th>Timestamp_ET</th>\n",
       "      <th>Ticker</th>\n",
       "      <th>News</th>\n",
       "      <th>freshness</th>\n",
       "      <th>topic_1</th>\n",
       "      <th>topic_2</th>\n",
       "      <th>prediction_value</th>\n",
       "      <th>return_t</th>\n",
       "      <th>return_t_1</th>\n",
       "      <th>return_t_2</th>\n",
       "      <th>z_value_mc_tI</th>\n",
       "    </tr>\n",
       "  </thead>\n",
       "  <tbody>\n",
       "    <tr>\n",
       "      <th>0</th>\n",
       "      <td>2002-11-25 22:18:03.380</td>\n",
       "      <td>INTC</td>\n",
       "      <td>stocks rise amd jumps on intel price hike inte...</td>\n",
       "      <td>fresh</td>\n",
       "      <td>0.120690</td>\n",
       "      <td>0.000000</td>\n",
       "      <td>0.986965</td>\n",
       "      <td>-0.007256</td>\n",
       "      <td>-0.017926</td>\n",
       "      <td>NaN</td>\n",
       "      <td>-1.846158</td>\n",
       "    </tr>\n",
       "    <tr>\n",
       "      <th>1</th>\n",
       "      <td>2007-07-12 09:14:40.655</td>\n",
       "      <td>INTC</td>\n",
       "      <td>research alert banc of america raises intel pr...</td>\n",
       "      <td>fresh</td>\n",
       "      <td>0.341379</td>\n",
       "      <td>0.193966</td>\n",
       "      <td>0.996024</td>\n",
       "      <td>0.038553</td>\n",
       "      <td>0.003684</td>\n",
       "      <td>0.005538</td>\n",
       "      <td>-2.146543</td>\n",
       "    </tr>\n",
       "    <tr>\n",
       "      <th>2</th>\n",
       "      <td>2012-01-19 20:04:52.865</td>\n",
       "      <td>INTC</td>\n",
       "      <td>brief intel shares up percent after the bell i...</td>\n",
       "      <td>stale</td>\n",
       "      <td>0.103448</td>\n",
       "      <td>0.331897</td>\n",
       "      <td>0.995623</td>\n",
       "      <td>0.027763</td>\n",
       "      <td>0.026733</td>\n",
       "      <td>0.031526</td>\n",
       "      <td>-2.465404</td>\n",
       "    </tr>\n",
       "    <tr>\n",
       "      <th>3</th>\n",
       "      <td>2016-01-14 18:42:58.306</td>\n",
       "      <td>INTC</td>\n",
       "      <td>intel revenue rises marginally brief intel rep...</td>\n",
       "      <td>fresh</td>\n",
       "      <td>0.179310</td>\n",
       "      <td>0.353448</td>\n",
       "      <td>0.970510</td>\n",
       "      <td>0.048052</td>\n",
       "      <td>NaN</td>\n",
       "      <td>-0.024525</td>\n",
       "      <td>-2.843241</td>\n",
       "    </tr>\n",
       "  </tbody>\n",
       "</table>\n",
       "</div>"
      ],
      "text/plain": [
       "             Timestamp_ET Ticker  \\\n",
       "0 2002-11-25 22:18:03.380   INTC   \n",
       "1 2007-07-12 09:14:40.655   INTC   \n",
       "2 2012-01-19 20:04:52.865   INTC   \n",
       "3 2016-01-14 18:42:58.306   INTC   \n",
       "\n",
       "                                                News freshness   topic_1  \\\n",
       "0  stocks rise amd jumps on intel price hike inte...     fresh  0.120690   \n",
       "1  research alert banc of america raises intel pr...     fresh  0.341379   \n",
       "2  brief intel shares up percent after the bell i...     stale  0.103448   \n",
       "3  intel revenue rises marginally brief intel rep...     fresh  0.179310   \n",
       "\n",
       "    topic_2  prediction_value  return_t  return_t_1  return_t_2  z_value_mc_tI  \n",
       "0  0.000000          0.986965 -0.007256   -0.017926         NaN      -1.846158  \n",
       "1  0.193966          0.996024  0.038553    0.003684    0.005538      -2.146543  \n",
       "2  0.331897          0.995623  0.027763    0.026733    0.031526      -2.465404  \n",
       "3  0.353448          0.970510  0.048052         NaN   -0.024525      -2.843241  "
      ]
     },
     "execution_count": 218,
     "metadata": {},
     "output_type": "execute_result"
    }
   ],
   "source": [
    "Case_1"
   ]
  },
  {
   "cell_type": "code",
   "execution_count": 219,
   "id": "1065ac08-e18c-437c-8f54-24cbf81a26e4",
   "metadata": {},
   "outputs": [
    {
     "data": {
      "text/plain": [
       "Timestamp_ET                               2012-01-19 20:04:52.865000\n",
       "Ticker                                                           INTC\n",
       "News                brief intel shares up percent after the bell i...\n",
       "freshness                                                       stale\n",
       "topic_1                                                      0.103448\n",
       "topic_2                                                      0.331897\n",
       "prediction_value                                             0.995623\n",
       "return_t                                                     0.027763\n",
       "return_t_1                                                   0.026733\n",
       "return_t_2                                                   0.031526\n",
       "z_value_mc_tI                                               -2.465404\n",
       "Name: 2, dtype: object"
      ]
     },
     "execution_count": 219,
     "metadata": {},
     "output_type": "execute_result"
    }
   ],
   "source": [
    "i = 2\n",
    "Case_1.iloc[i]"
   ]
  },
  {
   "cell_type": "code",
   "execution_count": 220,
   "id": "f77c4619-db68-4ccb-8a57-313554b5afa9",
   "metadata": {},
   "outputs": [
    {
     "data": {
      "text/plain": [
       "'brief intel shares up percent after the bell intel quarterly revenue forecast meets expectations brief intel results update intel boosts capex beats tempered expectations intel says expects drive shortage impact new york jan intel corp shares were up percent after the bell as it reported results revenue also meets expectations gaap eps cents shares up after earnings report san francisco jan intel corp forecast quarterly revenue in line with wall street expectations as shortage of hard drives disrupts pc production in market already hobbled by shaky economy and growing preference for tablets intel said revenue in the current quarter would be billion plus or minus million analysts on average had expected current quarter revenue of billion according to thomson reuters the world leading chipmaker said revenue in the fourth quarter was billion up percent and slightly higher than the billion expected gaap net income in the fourth quarter was billion up percent gaap earnings per share were cents shares of intel rose percent after its earnings report from close of up percent on nasdaq keywords intel jan intel corp earnings per share revenue billion earnings per share view thomson reuters sees revenue billion plus or minus million sees fy gross margin percentage percent and percent non gaap sees fy spending billion plus or minus million sees fy capital spending billion plus or minus million sees gross margin percentage percent plus or minus couple percentage points sees non gaap gross margin percentage percent plus or minus couple percentage points sees research and development plus mg spending approximately billion revenue view billion thomson reuters sees fy gross margin and non gaap gross margin plus or minus few percentage points intel boosts capex to billion revenue slightly surpasses expectations shares up after earnings report by noel randewich san francisco jan intel corp sharply increased its capital expenditure budget for in bid to catch up in tablets and smartphones and to extend its lead in corporate data centers the chipmaker fourth quarter earnings beat scaled back expectations on thursday as it faces tough pc market hit by weak economy and shortage of hard drives rushing to speed up its development of competitive chips for smartphones and tablets intel said it is boosting capital spending in to billion plus or minus million last year its capital expenditures were billion analysts on call with chief executive paul otellini and other executives questioned whether increased spending by intel could become permanent and hurt profit margins chief financial officer stacy smith told them it would pay off in the long run to make more investments now in cutting edge facilities to develop and make chips for smartphones and new category of super thin laptops dubbed ultrabooks we ll come down from here but this is an investment year for us in some areas where think we ll get long term shareholder return smith said intel warned last month that the damage wrought by flooding in thailand the world largest producer of computer drives would curtail december quarter earnings in pc market already hit by weak economy with pc sales suffering intel has failed to find foothold in smartphones and tablets where processors based on arm holdings power efficient chip designs are widely used lenovo said it was cutting its capex by over billion due to slower industry growth and jitters about the world economy the biggest surprise is the capex for the new year said evercore partners analyst patrick wang they re investing to catch up and not only be at parity but exceed where the handset incumbents are intel main pc client group raised its revenue percent in the december quarter to billion its revenues from selling server chips for data centers rose percent after flooding in thailand ruined factories and sensitive machinery shortages of the components are expected to persist through the first half of and disrupt pc production last quarter they underestimated the flood impact am wondering if they are still underestimating the thailand flood impact and the market ability to ramp back up to get to these numbers said rbc analyst doug freedman upbeat earnings forecasts by linear technology and xilinx this week have made investors cautiously optimistic that drawdown of inventories in the broader chip industry including semiconductores used in automobiles communications and factories may be ending clearing the way for higher sales skinny laptops hoping to safeguard its position in pcs intel this year will be rolling out ultrabooks with its largest marketing campaign since it hopes the instant on super thin laptops can stand up to the likes of apple macbook air with some of the technological chic the ipad and other tablets epitomize smith said intel would also increase investments in chips for servers and storage and network devices and would increase production capacity at the chipmaker most cutting edge plants process technology leadership allows us to do devices that are less costly more power efficient with more features and more performance we think that benefits our phone line as it does our server line and pc line smith told reuters in an interview fears of falling pc sales hurt the shares of microsoft dell inc and intel for much of intel stock has recovered over the past three months partly due to the chipmaker relatively high percent dividend yield still trading at modest times expected earnings the shares recently hit week high intel said revenue in the current quarter would be billion plus or minus million analysts on average had expected current quarter revenue of billion according to thomson reuters the world leading chipmaker said revenue in the fourth quarter was billion up percent and slightly higher than the billion expected gaap net income in the fourth quarter was billion up percent gaap earnings per share were cents analysts had expected cents intel had gross margin of percent in the fourth quarter with non gaap gross margin of percent analysts on average expected percent shares of intel were up after its earnings report from close of up percent on nasdaq keywords intel san francisco jan intel cfo says expects shortage of hard disk drives to impact business in intel ceo says pc output trough caused by hard drive shortage to hit bottom in jan feb timeframe keywords'"
      ]
     },
     "execution_count": 220,
     "metadata": {},
     "output_type": "execute_result"
    }
   ],
   "source": [
    "Case_1.News[i]"
   ]
  },
  {
   "cell_type": "code",
   "execution_count": null,
   "id": "19a8be8f-dd6d-4dd0-b5bd-6e07803a45e2",
   "metadata": {},
   "outputs": [],
   "source": []
  }
 ],
 "metadata": {
  "kernelspec": {
   "display_name": "Python 3",
   "language": "python",
   "name": "python3"
  },
  "language_info": {
   "codemirror_mode": {
    "name": "ipython",
    "version": 3
   },
   "file_extension": ".py",
   "mimetype": "text/x-python",
   "name": "python",
   "nbconvert_exporter": "python",
   "pygments_lexer": "ipython3",
   "version": "3.8.12"
  }
 },
 "nbformat": 4,
 "nbformat_minor": 5
}
